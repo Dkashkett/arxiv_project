{
 "cells": [
  {
   "cell_type": "code",
   "execution_count": 368,
   "id": "9f6c63c6-a145-4de4-a6cb-94413336c58a",
   "metadata": {},
   "outputs": [],
   "source": [
    "import os\n",
    "from string import punctuation\n",
    "\n",
    "\n",
    "from constants import label_index\n",
    "\n",
    "\n",
    "import pyspark\n",
    "from pyspark.sql import SparkSession\n",
    "from pyspark.sql.functions import col, lower, lit, concat, explode\n",
    "from pyspark.ml.feature import (RegexTokenizer, \n",
    "                                StopWordsRemover, \n",
    "                                CountVectorizer,\n",
    "                                OneHotEncoder,\n",
    "                                StringIndexer,\n",
    "                                VectorAssembler,\n",
    "                                HashingTF,\n",
    "                                IDF\n",
    "                               )\n",
    "                                \n",
    "from pyspark.ml import Pipeline\n",
    "\n",
    "from pyspark.ml.classification import LogisticRegression, NaiveBayes, RandomForestClassifier\n",
    "from pyspark.ml.evaluation import MulticlassClassificationEvaluator\n",
    "from pyspark.ml.tuning import ParamGridBuilder, CrossValidator\n",
    "\n",
    "from wordcloud import WordCloud\n",
    "import matplotlib.pyplot as plt\n",
    "import sklearn.metrics as sm"
   ]
  },
  {
   "cell_type": "markdown",
   "id": "fa7a15d9-0b31-44f6-a554-005e56a462e4",
   "metadata": {},
   "source": [
    "# Preprocessing"
   ]
  },
  {
   "cell_type": "code",
   "execution_count": 329,
   "id": "a6b7ffb4-177e-4a3f-a435-4dcf399b55bc",
   "metadata": {},
   "outputs": [],
   "source": [
    "spark = SparkSession.builder \\\n",
    "    .appName(\"ArXiv Project\")\\\n",
    "    .master(\"local[4]\")\\\n",
    "    .getOrCreate()"
   ]
  },
  {
   "cell_type": "code",
   "execution_count": 330,
   "id": "df875e75-76eb-4688-b782-3f2497d37a08",
   "metadata": {},
   "outputs": [],
   "source": [
    "# Regex patterns for collapsing subcategories into one category\n",
    "physics_pattern = 'cond-mat.*|gr-qc|hep-ex|hep-lat|hep-ph|hep-th|nlin.*|nucl-ex|nucl-th|physics.*|quant-ph|acc-phys|plasm-ph|atom-ph|patt-sol|supr-con|mtrl-th|chao-dyn|comp-gas'\n",
    "astro_pattern = 'astro-ph.*'\n",
    "cs_pattern = 'cs.*|cmp-lg'\n",
    "econ_pattern = 'econ.*'\n",
    "electrical_eng_pattern = 'eess.*'\n",
    "math_pattern = 'math.*|math-ph|alg-geom|bayes-an|q-alg|solv-int|dg-ga|funct-an'\n",
    "bio_pattern = 'q-bio.*|ao-sci|chem-ph|adap-org'\n",
    "finance_pattern = 'q-fin.*'\n",
    "stat_pattern = 'stat.*' \n",
    "\n",
    "category_index = {\n",
    "    'PHYS': physics_pattern,\n",
    "    'ASTRO': astro_pattern,\n",
    "    'CS': cs_pattern,\n",
    "    'ECON': econ_pattern,\n",
    "    'EESS': electrical_eng_pattern,\n",
    "    'MATH': math_pattern,\n",
    "    'BIO': bio_pattern,\n",
    "    'FIN': finance_pattern,\n",
    "    'STAT': stat_pattern\n",
    "}"
   ]
  },
  {
   "cell_type": "code",
   "execution_count": 331,
   "id": "633a5b25-06c2-44f6-b632-cd96d2660e2e",
   "metadata": {},
   "outputs": [],
   "source": [
    "def unify_subcategories(df, category_index):\n",
    "    \"\"\"applies regex patterns to the subcategories column to unite the subcategories\n",
    "    into their broader group category\n",
    "    \"\"\"\n",
    "    # split categories cloumn into list of categories\n",
    "    split_col  = pyspark.sql.functions.split(df['categories'], ' ')\n",
    "    \n",
    "    # grab first category and make column\n",
    "    df = df.withColumn('category', split_col.getItem(0))\n",
    "    \n",
    "    for name, pattern in category_index.items():\n",
    "        \n",
    "        # collapse subcategories into broad category labels\n",
    "        df = df.withColumn('category', pyspark.sql.functions.regexp_replace('category', pattern, name))\n",
    "        \n",
    "    # combine title and abstract into large text feature\n",
    "    df = df.withColumn('text', lower(concat(col('title'), lit(' '), col('abstract'))))\n",
    "    \n",
    "    return df"
   ]
  },
  {
   "cell_type": "code",
   "execution_count": 332,
   "id": "9e8210b2-6dbb-4786-a295-2fde3dd99e32",
   "metadata": {},
   "outputs": [],
   "source": [
    "# loading raw json data\n",
    "path = './data/arxiv-metadata-oai-snapshot.json'\n",
    "\n",
    "raw_data = spark.read.json(path)\n",
    "\n",
    "# unify the subcategories and remove unneeded columns\n",
    "data = unify_subcategories(raw_data, category_index)\n",
    "data = data.select(['category', 'text'])"
   ]
  },
  {
   "cell_type": "code",
   "execution_count": 333,
   "id": "e1606f97-8e36-492f-af7d-4de7a1cc7e9a",
   "metadata": {
    "tags": []
   },
   "outputs": [],
   "source": [
    "# regular expression tokenizer\n",
    "tokenizer = RegexTokenizer(inputCol=\"text\", outputCol=\"words\", pattern=\"\\\\W\")\n",
    "\n",
    "# remove stopwords\n",
    "stopwords_remover = StopWordsRemover(inputCol=\"words\", outputCol=\"filtered\")\n",
    "\n",
    "# bag of words count\n",
    "count_vectorizer = CountVectorizer(inputCol=\"filtered\", outputCol=\"features\", vocabSize=10000, minDF=5)\n",
    "\n",
    "##\n",
    "label_indexer = StringIndexer(inputCol=\"category\", outputCol=\"label\")"
   ]
  },
  {
   "cell_type": "code",
   "execution_count": 334,
   "id": "589c218d-2ba4-4d02-9743-3aef1f8c9051",
   "metadata": {},
   "outputs": [
    {
     "name": "stderr",
     "output_type": "stream",
     "text": [
      "                                                                                \r"
     ]
    },
    {
     "name": "stdout",
     "output_type": "stream",
     "text": [
      "+--------+--------------------+--------------------+--------------------+--------------------+-----+\n",
      "|category|                text|               words|            filtered|            features|label|\n",
      "+--------+--------------------+--------------------+--------------------+--------------------+-----+\n",
      "|    PHYS|calculation of pr...|[calculation, of,...|[calculation, pro...|(10000,[4,13,16,2...|  0.0|\n",
      "|    MATH|sparsity-certifyi...|[sparsity, certif...|[sparsity, certif...|(10000,[5,10,11,2...|  1.0|\n",
      "|    PHYS|the evolution of ...|[the, evolution, ...|[evolution, earth...|(10000,[0,1,2,4,1...|  0.0|\n",
      "|    MATH|a determinant of ...|[a, determinant, ...|[determinant, sti...|(10000,[8,84,193,...|  1.0|\n",
      "|    MATH|from dyadic $\\lam...|[from, dyadic, la...|[dyadic, lambda_,...|(10000,[6,7,8,12,...|  1.0|\n",
      "+--------+--------------------+--------------------+--------------------+--------------------+-----+\n",
      "only showing top 5 rows\n",
      "\n"
     ]
    }
   ],
   "source": [
    "pipeline = Pipeline(stages=[tokenizer, stopwords_remover, count_vectorizer, label_indexer])\n",
    "# Fit the pipeline to training documents.\n",
    "pipeline = pipeline.fit(data)\n",
    "dataset = pipeline.transform(data)\n",
    "dataset.show(5)"
   ]
  },
  {
   "cell_type": "markdown",
   "id": "ed0e04f2-9fdf-4a87-aa07-889cf6c0054f",
   "metadata": {
    "tags": []
   },
   "source": [
    "# Data Exploration"
   ]
  },
  {
   "cell_type": "code",
   "execution_count": 89,
   "id": "d4809e60-e0f9-44c7-84a1-f1744bbdeffb",
   "metadata": {},
   "outputs": [
    {
     "name": "stderr",
     "output_type": "stream",
     "text": [
      "[Stage 116:============================================>          (20 + 4) / 25]\r"
     ]
    },
    {
     "name": "stdout",
     "output_type": "stream",
     "text": [
      "+--------+------+\n",
      "|category| count|\n",
      "+--------+------+\n",
      "|    PHYS|863455|\n",
      "|    MATH|436451|\n",
      "|      CS|320574|\n",
      "|   ASTRO|261725|\n",
      "|    STAT| 35601|\n",
      "|    EESS| 24893|\n",
      "|     BIO| 23087|\n",
      "|     FIN|  8838|\n",
      "|    ECON|  3485|\n",
      "+--------+------+\n",
      "\n"
     ]
    },
    {
     "name": "stderr",
     "output_type": "stream",
     "text": [
      "                                                                                \r"
     ]
    }
   ],
   "source": [
    "dataset.groupBy(\"category\") \\\n",
    "    .count() \\\n",
    "    .orderBy(col(\"count\").desc()) \\\n",
    "    .show()"
   ]
  },
  {
   "cell_type": "code",
   "execution_count": 335,
   "id": "8948ff23-edab-4cd5-88ac-af7c02171486",
   "metadata": {},
   "outputs": [],
   "source": [
    "token_counts = dataset.withColumn('token', explode('filtered')).groupBy('token').count().sort('count', ascending=False)"
   ]
  },
  {
   "cell_type": "code",
   "execution_count": 321,
   "id": "c6b3720e-4fe0-4015-86f2-db526c519968",
   "metadata": {},
   "outputs": [],
   "source": [
    "top_tokens = token_counts.toPandas().iloc[:200]\n",
    "top_tokens = top_tokens[top_tokens.token.apply(lambda x: len(x)>1)].iloc[:100]"
   ]
  },
  {
   "cell_type": "code",
   "execution_count": 324,
   "id": "4b3177bf-9b26-4ed4-b2b8-4e134a116539",
   "metadata": {},
   "outputs": [
    {
     "data": {
      "image/png": "[encoded data removed]",
      "text/plain": [
       "<Figure size 576x576 with 1 Axes>"
      ]
     },
     "metadata": {
      "needs_background": "light"
     },
     "output_type": "display_data"
    }
   ],
   "source": [
    "frame = top_tokens\n",
    "frame = frame[frame.token.apply(lambda x: len(x)>1)]\n",
    "frame['count'] = round(frame['count']/1000)\n",
    "s = ''\n",
    "for idx in range(frame.shape[0]):\n",
    "    row = frame.iloc[idx]\n",
    "    token = row['token']\n",
    "    count = int(row['count'])\n",
    "    for i in range(count):\n",
    "        s += token + ' '\n",
    "wordcloud = WordCloud(width= 1000, height = 1000, random_state=1, \n",
    "              background_color='salmon', colormap='Pastel1', \n",
    "              collocations=False).generate(s)\n",
    "plt.figure(figsize = (8, 8), facecolor = None)\n",
    "plt.imshow(wordcloud)\n",
    "plt.axis(\"off\")\n",
    "plt.tight_layout(pad = 0)\n",
    "plt.savefig(os.path.join('./plots/', f'topwords_wordcloud.png'))"
   ]
  },
  {
   "cell_type": "code",
   "execution_count": 336,
   "id": "c56a99de-183b-4630-a5ae-550f82d88cca",
   "metadata": {},
   "outputs": [],
   "source": [
    "# selecting the top 100 most common words to be removed\n",
    "words_to_remove = top_tokens.iloc[:100].token.values"
   ]
  },
  {
   "cell_type": "code",
   "execution_count": 269,
   "id": "fac6282c-9867-4197-b596-162166611f50",
   "metadata": {},
   "outputs": [
    {
     "name": "stdout",
     "output_type": "stream",
     "text": [
      "collecting word counts for: PHYS\n"
     ]
    },
    {
     "name": "stderr",
     "output_type": "stream",
     "text": [
      "                                                                                \r"
     ]
    },
    {
     "name": "stdout",
     "output_type": "stream",
     "text": [
      "collecting word counts for: ASTRO\n"
     ]
    },
    {
     "name": "stderr",
     "output_type": "stream",
     "text": [
      "                                                                                \r"
     ]
    },
    {
     "name": "stdout",
     "output_type": "stream",
     "text": [
      "collecting word counts for: CS\n"
     ]
    },
    {
     "name": "stderr",
     "output_type": "stream",
     "text": [
      "                                                                                \r"
     ]
    },
    {
     "name": "stdout",
     "output_type": "stream",
     "text": [
      "collecting word counts for: ECON\n"
     ]
    },
    {
     "name": "stderr",
     "output_type": "stream",
     "text": [
      "                                                                                \r"
     ]
    },
    {
     "name": "stdout",
     "output_type": "stream",
     "text": [
      "collecting word counts for: EESS\n"
     ]
    },
    {
     "name": "stderr",
     "output_type": "stream",
     "text": [
      "                                                                                \r"
     ]
    },
    {
     "name": "stdout",
     "output_type": "stream",
     "text": [
      "collecting word counts for: MATH\n"
     ]
    },
    {
     "name": "stderr",
     "output_type": "stream",
     "text": [
      "                                                                                \r"
     ]
    },
    {
     "name": "stdout",
     "output_type": "stream",
     "text": [
      "collecting word counts for: BIO\n"
     ]
    },
    {
     "name": "stderr",
     "output_type": "stream",
     "text": [
      "                                                                                \r"
     ]
    },
    {
     "name": "stdout",
     "output_type": "stream",
     "text": [
      "collecting word counts for: FIN\n"
     ]
    },
    {
     "name": "stderr",
     "output_type": "stream",
     "text": [
      "                                                                                \r"
     ]
    },
    {
     "name": "stdout",
     "output_type": "stream",
     "text": [
      "collecting word counts for: STAT\n"
     ]
    },
    {
     "name": "stderr",
     "output_type": "stream",
     "text": [
      "                                                                                \r"
     ]
    },
    {
     "name": "stdout",
     "output_type": "stream",
     "text": [
      "finished.\n"
     ]
    }
   ],
   "source": [
    "top_words_by_category = {}\n",
    "top_words_by_category_dfs = {}\n",
    "\n",
    "for category in category_index.keys():\n",
    "    \n",
    "    print(f'collecting word counts for: {category}')\n",
    "    \n",
    "    top = dataset.filter(dataset.category==category)\\\n",
    "                .withColumn('token', explode('refiltered')).groupBy('token').count().sort('count', ascending=False)\n",
    "    \n",
    "    top = top.toPandas().iloc[:100]\n",
    "    \n",
    "    top_words_by_category_dfs[category] = top\n",
    "    \n",
    "    top = top[top.token.apply(lambda x: len(x)>1)]\n",
    "    \n",
    "    top = top.token.tolist()\n",
    "    \n",
    "    word_counts[category] = top\n",
    "    \n",
    "print('finished.')"
   ]
  },
  {
   "cell_type": "code",
   "execution_count": 317,
   "id": "853d5b3a-1ec8-4b5f-9735-ca19d43d150a",
   "metadata": {},
   "outputs": [],
   "source": [
    "def generate_word_clouds(top_words_by_categories_df, categories_index, save_path):\n",
    "    for category in categories_index.keys():\n",
    "        print(f'building wordcloud for: {category}')\n",
    "        frame = top_words_by_category_dfs[category]\n",
    "        frame = frame[frame.token.apply(lambda x: len(x)>1)]\n",
    "        frame['count'] = round(frame['count']/10)\n",
    "        s = ''\n",
    "        for idx in range(frame.shape[0]):\n",
    "            row = frame.iloc[idx]\n",
    "            token = row['token']\n",
    "            count = int(row['count'])\n",
    "            for i in range(count):\n",
    "                s += token + ' '\n",
    "        wordcloud = WordCloud(width= 1000, height = 1000, random_state=1, \n",
    "                      background_color='salmon', colormap='Pastel1', \n",
    "                      collocations=False).generate(s)\n",
    "        plt.figure(figsize = (8, 8), facecolor = None)\n",
    "        plt.imshow(wordcloud)\n",
    "        plt.axis(\"off\")\n",
    "        plt.tight_layout(pad = 0)\n",
    "        plt.savefig(os.path.join(save_path, f'{category}_wordcloud.png'))"
   ]
  },
  {
   "cell_type": "code",
   "execution_count": 346,
   "id": "0efea8ca-95ad-42b9-af8f-d4817bd8bb91",
   "metadata": {},
   "outputs": [],
   "source": [
    "# generate_word_clouds(top_words_by_category_dfs, category_index, './plots/')"
   ]
  },
  {
   "cell_type": "markdown",
   "id": "f81cc50e-0db9-4215-8bfa-a0dd34e3c441",
   "metadata": {},
   "source": [
    "# Count Vector Experiment"
   ]
  },
  {
   "cell_type": "code",
   "execution_count": 339,
   "id": "47a3e7e4-600c-47ad-9e9d-438dcb37a546",
   "metadata": {},
   "outputs": [
    {
     "name": "stderr",
     "output_type": "stream",
     "text": [
      "                                                                                \r"
     ]
    },
    {
     "name": "stdout",
     "output_type": "stream",
     "text": [
      "Training Dataset Count: 1384667\n"
     ]
    },
    {
     "name": "stderr",
     "output_type": "stream",
     "text": [
      "[Stage 9617:===============================================>      (22 + 3) / 25]\r"
     ]
    },
    {
     "name": "stdout",
     "output_type": "stream",
     "text": [
      "Training Dataset Count: 593442\n"
     ]
    },
    {
     "name": "stderr",
     "output_type": "stream",
     "text": [
      "                                                                                \r"
     ]
    }
   ],
   "source": [
    "(training_data, test_data) = dataset.randomSplit([0.7, 0.3], seed = 42)\n",
    "print(f\"Training Dataset Count: {training_data.count()}\")\n",
    "print(f\"Training Dataset Count: {test_data.count()}\")"
   ]
  },
  {
   "cell_type": "code",
   "execution_count": 340,
   "id": "b5efa90f-8b98-4790-8aef-aab013e13be4",
   "metadata": {},
   "outputs": [
    {
     "name": "stderr",
     "output_type": "stream",
     "text": [
      "                                                                                \r"
     ]
    },
    {
     "name": "stdout",
     "output_type": "stream",
     "text": [
      "Training subset count: 290987\n"
     ]
    },
    {
     "name": "stderr",
     "output_type": "stream",
     "text": [
      "[Stage 9623:===================================================>  (24 + 1) / 25]\r"
     ]
    },
    {
     "name": "stdout",
     "output_type": "stream",
     "text": [
      "Validation subset count: 124484\n"
     ]
    },
    {
     "name": "stderr",
     "output_type": "stream",
     "text": [
      "                                                                                \r"
     ]
    }
   ],
   "source": [
    "_, subset = training_data.randomSplit([0.7, 0.3], seed=42)\n",
    "train_subset, valid_subset = subset.randomSplit([0.7, 0.3], seed=42)\n",
    "print(f\"Training subset count: {train_subset.count()}\")\n",
    "print(f\"Validation subset count: {valid_subset.count()}\")"
   ]
  },
  {
   "cell_type": "code",
   "execution_count": 341,
   "id": "760cc0a0-e660-4003-a824-202f0692dc19",
   "metadata": {},
   "outputs": [
    {
     "name": "stderr",
     "output_type": "stream",
     "text": [
      "                                                                                \r"
     ]
    }
   ],
   "source": [
    "lr = LogisticRegression(maxIter=20, regParam=0.3, elasticNetParam=0)\n",
    "lr = lr.fit(train_subset)"
   ]
  },
  {
   "cell_type": "code",
   "execution_count": 343,
   "id": "e8ccf6f1-bbe0-4f3d-87dd-eeb0afc78299",
   "metadata": {},
   "outputs": [],
   "source": [
    "predictions = lr.transform(valid_subset)"
   ]
  },
  {
   "cell_type": "code",
   "execution_count": 344,
   "id": "571032c8-5939-4994-b254-fbc9f6d9a297",
   "metadata": {},
   "outputs": [
    {
     "data": {
      "text/plain": [
       "MulticlassClassificationEvaluator_3de97bf504b1"
      ]
     },
     "execution_count": 344,
     "metadata": {},
     "output_type": "execute_result"
    }
   ],
   "source": [
    "evaluator = MulticlassClassificationEvaluator(predictionCol=\"prediction\")\n",
    "evaluator.setMetricName(\"f1\")"
   ]
  },
  {
   "cell_type": "code",
   "execution_count": 345,
   "id": "05d7f612-d181-4248-bbcf-207625f3b6eb",
   "metadata": {},
   "outputs": [
    {
     "name": "stderr",
     "output_type": "stream",
     "text": [
      "                                                                                \r"
     ]
    },
    {
     "data": {
      "text/plain": [
       "0.8673234291678606"
      ]
     },
     "execution_count": 345,
     "metadata": {},
     "output_type": "execute_result"
    }
   ],
   "source": [
    "evaluator.evaluate(predictions)"
   ]
  },
  {
   "cell_type": "markdown",
   "id": "f7f57964-8351-47a1-be53-428c90ae66b4",
   "metadata": {},
   "source": [
    "### Count Vectors w/o most common"
   ]
  },
  {
   "cell_type": "code",
   "execution_count": 353,
   "id": "1a771f51-ec20-4fef-9201-0c1f7b580613",
   "metadata": {},
   "outputs": [
    {
     "name": "stderr",
     "output_type": "stream",
     "text": [
      "                                                                                \r"
     ]
    }
   ],
   "source": [
    "# loading raw json data\n",
    "path = './data/arxiv-metadata-oai-snapshot.json'\n",
    "\n",
    "raw_data = spark.read.json(path)\n",
    "\n",
    "# unify the subcategories and remove unneeded columns\n",
    "data = unify_subcategories(raw_data, category_index)\n",
    "data = data.select(['category', 'text'])\n",
    "\n",
    "# regular expression tokenizer\n",
    "tokenizer = RegexTokenizer(inputCol=\"text\", outputCol=\"words\", pattern=\"\\\\W\")\n",
    "\n",
    "# remove stopwords\n",
    "stopwords_remover = StopWordsRemover(inputCol=\"words\", outputCol=\"filtered\").setStopWords(words_to_remove)\n",
    "\n",
    "# bag of words count\n",
    "count_vectorizer = CountVectorizer(inputCol=\"filtered\", outputCol=\"features\", vocabSize=10000, minDF=5)\n",
    "\n",
    "##\n",
    "label_indexer = StringIndexer(inputCol=\"category\", outputCol=\"label\")\n",
    "\n",
    "pipeline = Pipeline(stages=[tokenizer, stopwords_remover, count_vectorizer, label_indexer])\n",
    "# Fit the pipeline to training documents.\n",
    "pipeline = pipeline.fit(data)\n",
    "dataset = pipeline.transform(data)"
   ]
  },
  {
   "cell_type": "code",
   "execution_count": 354,
   "id": "dbeed36e-8938-4aef-9543-4b5b09a89c58",
   "metadata": {},
   "outputs": [],
   "source": [
    "training_data, test_data = dataset.randomSplit([0.7, 0.3], seed = 42)\n",
    "_, subset = training_data.randomSplit([0.7, 0.3], seed=42)\n",
    "train_subset, valid_subset = subset.randomSplit([0.7, 0.3], seed=42)"
   ]
  },
  {
   "cell_type": "code",
   "execution_count": 355,
   "id": "c8cc6e4d-3d0d-4696-a421-601731ab709d",
   "metadata": {},
   "outputs": [
    {
     "name": "stderr",
     "output_type": "stream",
     "text": [
      "                                                                                \r"
     ]
    },
    {
     "data": {
      "text/plain": [
       "0.8643940868529149"
      ]
     },
     "execution_count": 355,
     "metadata": {},
     "output_type": "execute_result"
    }
   ],
   "source": [
    "lr = LogisticRegression(maxIter=20, regParam=0.3, elasticNetParam=0)\n",
    "lr = lr.fit(train_subset)\n",
    "\n",
    "predictions = lr.transform(valid_subset)\n",
    "\n",
    "evaluator = MulticlassClassificationEvaluator(predictionCol=\"prediction\")\n",
    "evaluator.setMetricName(\"f1\")\n",
    "\n",
    "evaluator.evaluate(predictions)"
   ]
  },
  {
   "cell_type": "code",
   "execution_count": 401,
   "id": "23cbc4e8-c145-4ec0-83fc-211177dcbf08",
   "metadata": {},
   "outputs": [],
   "source": [
    "#####"
   ]
  },
  {
   "cell_type": "code",
   "execution_count": 402,
   "id": "2d397221-262e-4e10-8a2e-9878b4d5036b",
   "metadata": {},
   "outputs": [
    {
     "name": "stderr",
     "output_type": "stream",
     "text": [
      "                                                                                \r"
     ]
    }
   ],
   "source": [
    "# loading raw json data\n",
    "path = './data/arxiv-metadata-oai-snapshot.json'\n",
    "\n",
    "raw_data = spark.read.json(path)\n",
    "\n",
    "# unify the subcategories and remove unneeded columns\n",
    "data = unify_subcategories(raw_data, category_index)\n",
    "data = data.select(['category', 'text'])\n",
    "\n",
    "# regular expression tokenizer\n",
    "tokenizer = RegexTokenizer(inputCol=\"text\", outputCol=\"words\", pattern=\"\\\\W\")\n",
    "\n",
    "# remove stopwords\n",
    "stopwords_remover = StopWordsRemover(inputCol=\"words\", outputCol=\"filtered\")\n",
    "\n",
    "# bag of words count\n",
    "count_vectorizer = CountVectorizer(inputCol=\"filtered\", outputCol=\"features\", vocabSize=10000, minDF=5)\n",
    "\n",
    "##\n",
    "label_indexer = StringIndexer(inputCol=\"category\", outputCol=\"label\")\n",
    "\n",
    "pipeline = Pipeline(stages=[tokenizer, stopwords_remover, count_vectorizer, label_indexer])\n",
    "# Fit the pipeline to training documents.\n",
    "pipeline = pipeline.fit(data)\n",
    "dataset = pipeline.transform(data)"
   ]
  },
  {
   "cell_type": "code",
   "execution_count": 406,
   "id": "49a83194-187f-4900-9d17-0bccca07d503",
   "metadata": {},
   "outputs": [],
   "source": [
    "def under_sample(dataset, category_index, size=3485):\n",
    "    frame = None\n",
    "    for category in category_index:\n",
    "        if not frame:\n",
    "            frame = dataset.filter(dataset.category==category).limit(size)\n",
    "        else:\n",
    "            frame = frame.union(dataset.filter(dataset.category==category).limit(size))\n",
    "    return frame"
   ]
  },
  {
   "cell_type": "code",
   "execution_count": 407,
   "id": "1f640a0b-9205-43f9-becd-3cbbd0f63dde",
   "metadata": {},
   "outputs": [],
   "source": [
    "under_sampled_data = under_sample(dataset, category_index)"
   ]
  },
  {
   "cell_type": "code",
   "execution_count": 408,
   "id": "8ca0b831-1600-4eff-9acb-8a5b2870c014",
   "metadata": {},
   "outputs": [
    {
     "name": "stderr",
     "output_type": "stream",
     "text": [
      "[Stage 9988:=================================================>    (23 + 2) / 25]\r"
     ]
    },
    {
     "name": "stdout",
     "output_type": "stream",
     "text": [
      "+--------+-----+\n",
      "|category|count|\n",
      "+--------+-----+\n",
      "|    PHYS| 3485|\n",
      "|   ASTRO| 3485|\n",
      "|      CS| 3485|\n",
      "|    ECON| 3485|\n",
      "|    EESS| 3485|\n",
      "|    MATH| 3485|\n",
      "|     BIO| 3485|\n",
      "|     FIN| 3485|\n",
      "|    STAT| 3485|\n",
      "+--------+-----+\n",
      "\n"
     ]
    },
    {
     "name": "stderr",
     "output_type": "stream",
     "text": [
      "                                                                                \r"
     ]
    }
   ],
   "source": [
    "under_sampled_data.groupBy(\"category\") \\\n",
    "    .count() \\\n",
    "    .orderBy(col(\"count\").desc()) \\\n",
    "    .show()"
   ]
  },
  {
   "cell_type": "code",
   "execution_count": 412,
   "id": "d626ba44-69da-43e6-b393-9193889360d1",
   "metadata": {},
   "outputs": [
    {
     "name": "stderr",
     "output_type": "stream",
     "text": [
      "[Stage 10010:=========================>                           (12 + 4) / 25]\r"
     ]
    }
   ],
   "source": [
    "training_data, test_data = under_sampled_data.randomSplit([0.7, 0.3], seed = 42)\n",
    "train_data, valid_data = training_data.randomSplit([0.7, 0.3], seed=42)"
   ]
  },
  {
   "cell_type": "code",
   "execution_count": 413,
   "id": "1ff25f8e-b084-491a-939f-d9154432e7ff",
   "metadata": {},
   "outputs": [
    {
     "name": "stderr",
     "output_type": "stream",
     "text": [
      "21/12/12 15:25:43 WARN DAGScheduler: Broadcasting large task binary with size 1073.2 KiB\n",
      "                                                                                \r"
     ]
    },
    {
     "data": {
      "text/plain": [
       "0.8278230484108978"
      ]
     },
     "execution_count": 413,
     "metadata": {},
     "output_type": "execute_result"
    }
   ],
   "source": [
    "lr = LogisticRegression(maxIter=20, regParam=0.3, elasticNetParam=0)\n",
    "lr = lr.fit(train_data)\n",
    "\n",
    "predictions = lr.transform(valid_data)\n",
    "\n",
    "evaluator = MulticlassClassificationEvaluator(predictionCol=\"prediction\")\n",
    "evaluator.setMetricName(\"f1\")\n",
    "\n",
    "evaluator.evaluate(predictions)"
   ]
  },
  {
   "cell_type": "code",
   "execution_count": 414,
   "id": "d458d84e-974b-4e18-a1fe-25aa1e200869",
   "metadata": {},
   "outputs": [
    {
     "name": "stderr",
     "output_type": "stream",
     "text": [
      "21/12/12 15:31:40 WARN DAGScheduler: Broadcasting large task binary with size 1063.7 KiB\n",
      "                                                                                \r"
     ]
    }
   ],
   "source": [
    "valid_preds = predictions.select(['label','prediction']).toPandas()\n",
    "report = sm.classification_report(valid_preds['label'], valid_preds['prediction'],target_names=pipeline.stages[-1].labels)"
   ]
  },
  {
   "cell_type": "code",
   "execution_count": 415,
   "id": "dbb47dd6-1c48-43c0-bc97-e65abd6a07e5",
   "metadata": {},
   "outputs": [
    {
     "name": "stdout",
     "output_type": "stream",
     "text": [
      "              precision    recall  f1-score   support\n",
      "\n",
      "        PHYS       0.84      0.83      0.83       692\n",
      "        MATH       0.79      0.90      0.84       731\n",
      "          CS       0.77      0.72      0.74       755\n",
      "       ASTRO       0.97      0.91      0.94       728\n",
      "        STAT       0.74      0.77      0.75       734\n",
      "        EESS       0.86      0.83      0.84       738\n",
      "         BIO       0.86      0.84      0.85       726\n",
      "         FIN       0.85      0.85      0.85       719\n",
      "        ECON       0.80      0.81      0.80       686\n",
      "\n",
      "    accuracy                           0.83      6509\n",
      "   macro avg       0.83      0.83      0.83      6509\n",
      "weighted avg       0.83      0.83      0.83      6509\n",
      "\n"
     ]
    }
   ],
   "source": [
    "print(report)"
   ]
  },
  {
   "cell_type": "markdown",
   "id": "7a656086-b422-45a3-aa99-6d6146286d26",
   "metadata": {
    "tags": []
   },
   "source": [
    "# TFIDF Experiment"
   ]
  },
  {
   "cell_type": "code",
   "execution_count": 94,
   "id": "15113bf5-c3bb-45b9-8d55-1d3cae6c026f",
   "metadata": {},
   "outputs": [],
   "source": [
    "# predictions.select(['category', 'label', 'prediction', 'probability']).tail(10)"
   ]
  },
  {
   "cell_type": "code",
   "execution_count": 107,
   "id": "56244769-fc05-45a7-aeef-b37d06c570a0",
   "metadata": {},
   "outputs": [
    {
     "name": "stderr",
     "output_type": "stream",
     "text": [
      "                                                                                \r"
     ]
    }
   ],
   "source": [
    "term_freq_hasher = HashingTF(inputCol=\"words\", outputCol=\"raw_features\", numFeatures=10000)\n",
    "\n",
    "idf = IDF(inputCol=\"raw_features\", outputCol=\"features\", minDocFreq=5) \n",
    "\n",
    "pipeline = Pipeline(stages=[tokenizer, term_freq_hasher, idf, label_indexer])\n",
    "\n",
    "pipeline = pipeline.fit(data)\n",
    "\n",
    "dataset = pipeline.transform(data)\n",
    "\n",
    "(training_data, test_data) = dataset.randomSplit([0.7, 0.3], seed = 42)\n",
    "\n",
    "_, subset = training_data.randomSplit([0.7, 0.3], seed=42)\n",
    "\n",
    "train_subset, valid_subset = subset.randomSplit([0.7, 0.3], seed=42)"
   ]
  },
  {
   "cell_type": "code",
   "execution_count": 109,
   "id": "685da9d7-f35b-49d0-a83d-c26af782d7ed",
   "metadata": {},
   "outputs": [
    {
     "name": "stderr",
     "output_type": "stream",
     "text": [
      "                                                                                \r"
     ]
    }
   ],
   "source": [
    "lr = LogisticRegression(maxIter=20, regParam=0.3, elasticNetParam=0)\n",
    "\n",
    "lr = lr.fit(train_subset)\n",
    "\n",
    "predictions = lr.transform(valid_subset)"
   ]
  },
  {
   "cell_type": "code",
   "execution_count": 110,
   "id": "fdacf3d9-52f2-4146-95d2-dd99962eb7c3",
   "metadata": {},
   "outputs": [
    {
     "name": "stderr",
     "output_type": "stream",
     "text": [
      "                                                                                \r"
     ]
    },
    {
     "data": {
      "text/plain": [
       "0.8547437274097942"
      ]
     },
     "execution_count": 110,
     "metadata": {},
     "output_type": "execute_result"
    }
   ],
   "source": [
    "evaluator = MulticlassClassificationEvaluator(predictionCol=\"prediction\")\n",
    "evaluator.evaluate(predictions)"
   ]
  },
  {
   "cell_type": "markdown",
   "id": "fc2787a7-3ad6-4b24-8b77-a02b4b793ed9",
   "metadata": {},
   "source": [
    "# Naive Bayes Experiment"
   ]
  },
  {
   "cell_type": "code",
   "execution_count": 120,
   "id": "90d2271f-555d-4cef-8e7f-458a7b74edce",
   "metadata": {},
   "outputs": [],
   "source": [
    "# regular expression tokenizer\n",
    "tokenizer = RegexTokenizer(inputCol=\"text\", outputCol=\"words\", pattern=\"\\\\W\")\n",
    "# bag of words count\n",
    "count_vectorizer = CountVectorizer(inputCol=\"words\", outputCol=\"features\", vocabSize=10000, minDF=5)\n",
    "##\n",
    "label_indexer = StringIndexer(inputCol=\"category\", outputCol=\"label\")"
   ]
  },
  {
   "cell_type": "code",
   "execution_count": 121,
   "id": "75190945-2ef3-4add-9b1d-04b6b20c6fb3",
   "metadata": {},
   "outputs": [
    {
     "name": "stderr",
     "output_type": "stream",
     "text": [
      "                                                                                \r"
     ]
    }
   ],
   "source": [
    "pipeline = Pipeline(stages=[tokenizer, count_vectorizer, label_indexer])\n",
    "\n",
    "pipeline = pipeline.fit(data)\n",
    "\n",
    "dataset = pipeline.transform(data)\n",
    "\n",
    "training_data, test_data = dataset.randomSplit([0.7, 0.3], seed = 42)\n",
    "\n",
    "_, subset = training_data.randomSplit([0.7, 0.3], seed=42)\n",
    "\n",
    "train_subset, valid_subset = subset.randomSplit([0.7, 0.3], seed=42)"
   ]
  },
  {
   "cell_type": "code",
   "execution_count": 122,
   "id": "6fdc1030-6231-4cba-af46-e15d2638d204",
   "metadata": {},
   "outputs": [
    {
     "name": "stderr",
     "output_type": "stream",
     "text": [
      "                                                                                \r"
     ]
    }
   ],
   "source": [
    "nb = NaiveBayes(smoothing=1)\n",
    "nb = nb.fit(train_subset)"
   ]
  },
  {
   "cell_type": "code",
   "execution_count": 123,
   "id": "749590ae-ebfb-4d81-bcb2-9c5dc3428fcd",
   "metadata": {},
   "outputs": [],
   "source": [
    "predictions = nb.transform(valid_subset)"
   ]
  },
  {
   "cell_type": "code",
   "execution_count": 124,
   "id": "a065ad65-ae30-4733-b41e-3094a1df8a0c",
   "metadata": {},
   "outputs": [
    {
     "name": "stderr",
     "output_type": "stream",
     "text": [
      "                                                                                \r"
     ]
    },
    {
     "data": {
      "text/plain": [
       "0.847870880775229"
      ]
     },
     "execution_count": 124,
     "metadata": {},
     "output_type": "execute_result"
    }
   ],
   "source": [
    "evaluator = MulticlassClassificationEvaluator(predictionCol=\"prediction\")\n",
    "evaluator.evaluate(predictions)"
   ]
  },
  {
   "cell_type": "code",
   "execution_count": 357,
   "id": "304055ee-3d40-472e-9e59-5124223056f4",
   "metadata": {},
   "outputs": [
    {
     "name": "stderr",
     "output_type": "stream",
     "text": [
      "                                                                                \r"
     ]
    }
   ],
   "source": [
    "# loading raw json data\n",
    "path = './data/arxiv-metadata-oai-snapshot.json'\n",
    "\n",
    "raw_data = spark.read.json(path)\n",
    "\n",
    "# unify the subcategories and remove unneeded columns\n",
    "data = unify_subcategories(raw_data, category_index)\n",
    "data = data.select(['category', 'text'])\n",
    "\n",
    "# regular expression tokenizer\n",
    "tokenizer = RegexTokenizer(inputCol=\"text\", outputCol=\"words\", pattern=\"\\\\W\")\n",
    "\n",
    "# remove stopwords\n",
    "stopwords_remover = StopWordsRemover(inputCol=\"words\", outputCol=\"filtered\").setStopWords(words_to_remove)\n",
    "\n",
    "# bag of words count\n",
    "count_vectorizer = CountVectorizer(inputCol=\"filtered\", outputCol=\"features\", vocabSize=10000, minDF=5)\n",
    "\n",
    "##\n",
    "label_indexer = StringIndexer(inputCol=\"category\", outputCol=\"label\")\n",
    "\n",
    "pipeline = Pipeline(stages=[tokenizer, stopwords_remover, count_vectorizer, label_indexer])\n",
    "# Fit the pipeline to training documents.\n",
    "pipeline = pipeline.fit(data)\n",
    "dataset = pipeline.transform(data)\n",
    "\n",
    "training_data, test_data = dataset.randomSplit([0.7, 0.3], seed = 42)\n",
    "_, subset = training_data.randomSplit([0.7, 0.3], seed=42)\n",
    "train_subset, valid_subset = subset.randomSplit([0.7, 0.3], seed=42)"
   ]
  },
  {
   "cell_type": "code",
   "execution_count": 358,
   "id": "385ece67-860b-435d-9725-6f33f52143ee",
   "metadata": {},
   "outputs": [
    {
     "name": "stderr",
     "output_type": "stream",
     "text": [
      "                                                                                \r"
     ]
    },
    {
     "data": {
      "text/plain": [
       "0.8460820345672351"
      ]
     },
     "execution_count": 358,
     "metadata": {},
     "output_type": "execute_result"
    }
   ],
   "source": [
    "nb = NaiveBayes(smoothing=1)\n",
    "nb = nb.fit(train_subset)\n",
    "\n",
    "predictions = nb.transform(valid_subset)\n",
    "evaluator = MulticlassClassificationEvaluator(predictionCol=\"prediction\")\n",
    "evaluator.setMetricName(\"f1\")\n",
    "evaluator.evaluate(predictions)"
   ]
  },
  {
   "cell_type": "markdown",
   "id": "beb5ecae-7bd9-4ffa-91b3-26ee6ed46867",
   "metadata": {},
   "source": [
    "# Random Forest Experiment"
   ]
  },
  {
   "cell_type": "code",
   "execution_count": 115,
   "id": "d6869ba8-bcba-4cb7-982a-5f07ba6f30e4",
   "metadata": {},
   "outputs": [],
   "source": [
    "# regular expression tokenizer\n",
    "tokenizer = RegexTokenizer(inputCol=\"text\", outputCol=\"words\", pattern=\"\\\\W\")\n",
    "# bag of words count\n",
    "count_vectorizer = CountVectorizer(inputCol=\"words\", outputCol=\"features\", vocabSize=10000, minDF=5)\n",
    "##\n",
    "label_indexer = StringIndexer(inputCol=\"category\", outputCol=\"label\")"
   ]
  },
  {
   "cell_type": "code",
   "execution_count": 116,
   "id": "19a734d7-b044-4562-94de-905032d342cd",
   "metadata": {},
   "outputs": [
    {
     "name": "stderr",
     "output_type": "stream",
     "text": [
      "                                                                                \r"
     ]
    }
   ],
   "source": [
    "pipeline = Pipeline(stages=[tokenizer, count_vectorizer, label_indexer])\n",
    "\n",
    "pipeline = pipeline.fit(data)\n",
    "\n",
    "dataset = pipeline.transform(data)\n",
    "\n",
    "training_data, test_data = dataset.randomSplit([0.7, 0.3], seed = 42)\n",
    "\n",
    "_, subset = training_data.randomSplit([0.7, 0.3], seed=42)\n",
    "\n",
    "train_subset, valid_subset = subset.randomSplit([0.7, 0.3], seed=42)"
   ]
  },
  {
   "cell_type": "code",
   "execution_count": 149,
   "id": "2c862ed5-8691-40df-a7f7-492aed89514e",
   "metadata": {},
   "outputs": [],
   "source": [
    "rf = RandomForestClassifier(labelCol=\"label\", \\\n",
    "                            featuresCol=\"features\", \\\n",
    "                            numTrees = 100, \\\n",
    "                            maxDepth = 4, \\\n",
    "                            maxBins = 32)\n",
    "\n",
    "\n",
    "rf = rf.fit(train_subset)\n",
    "\n",
    "predictions = rf.transform(valid_subset)"
   ]
  },
  {
   "cell_type": "code",
   "execution_count": 119,
   "id": "91973113-2588-471e-9c1f-30d069233e17",
   "metadata": {},
   "outputs": [
    {
     "name": "stderr",
     "output_type": "stream",
     "text": [
      "                                                                                \r"
     ]
    },
    {
     "data": {
      "text/plain": [
       "0.30067328498160645"
      ]
     },
     "execution_count": 119,
     "metadata": {},
     "output_type": "execute_result"
    }
   ],
   "source": [
    "evaluator = MulticlassClassificationEvaluator(predictionCol=\"prediction\")\n",
    "evaluator.evaluate(predictions)"
   ]
  },
  {
   "cell_type": "markdown",
   "id": "6498a6d9-4a06-45b1-9712-35540eec1025",
   "metadata": {
    "tags": []
   },
   "source": [
    "# Hyperparameter Search"
   ]
  },
  {
   "cell_type": "code",
   "execution_count": 127,
   "id": "64da9deb-aa91-4283-a6d8-fa2ea8fb647f",
   "metadata": {},
   "outputs": [],
   "source": [
    "# regular expression tokenizer\n",
    "tokenizer = RegexTokenizer(inputCol=\"text\", outputCol=\"words\", pattern=\"\\\\W\")\n",
    "# bag of words count\n",
    "count_vectorizer = CountVectorizer(inputCol=\"words\", outputCol=\"features\", vocabSize=10000, minDF=5)\n",
    "##\n",
    "label_indexer = StringIndexer(inputCol=\"category\", outputCol=\"label\")"
   ]
  },
  {
   "cell_type": "code",
   "execution_count": 128,
   "id": "e29044a3-a90d-4521-963d-438195ad6826",
   "metadata": {},
   "outputs": [
    {
     "name": "stderr",
     "output_type": "stream",
     "text": [
      "                                                                                \r"
     ]
    }
   ],
   "source": [
    "pipeline = Pipeline(stages=[tokenizer, count_vectorizer, label_indexer])\n",
    "\n",
    "pipeline = pipeline.fit(data)\n",
    "\n",
    "dataset = pipeline.transform(data)\n",
    "\n",
    "training_data, test_data = dataset.randomSplit([0.7, 0.3], seed = 42)\n",
    "\n",
    "_, subset = training_data.randomSplit([0.7, 0.3], seed=42)\n",
    "\n",
    "train_subset, valid_subset = subset.randomSplit([0.7, 0.3], seed=42)"
   ]
  },
  {
   "cell_type": "code",
   "execution_count": 150,
   "id": "ca1cdf4c-7d13-4e6b-b8be-c8d3cb7c44ba",
   "metadata": {
    "tags": []
   },
   "outputs": [],
   "source": [
    "lr = LogisticRegression(maxIter=20, regParam=0.3, elasticNetParam=0)\n",
    "\n",
    "evaluator = MulticlassClassificationEvaluator(predictionCol=\"prediction\")\n",
    "\n",
    "param_grid = (ParamGridBuilder()\n",
    "             .addGrid(lr.regParam, [0.1, 0.3, 0.5]) # regularization parameter\n",
    "             .addGrid(lr.elasticNetParam, [0.0, 0.1, 0.2]) # Elastic Net Parameter (Ridge = 0)\n",
    "             .addGrid(lr.maxIter, [10, 20, 50]) #Number of iterations\n",
    "             .build())\n",
    "\n",
    "cv = CrossValidator(estimator=lr, \\\n",
    "                    estimatorParamMaps=param_grid, \\\n",
    "                    evaluator=evaluator, \\\n",
    "                    numFolds=5)\n",
    "\n",
    "cv = cv.fit(train_subset)"
   ]
  },
  {
   "cell_type": "code",
   "execution_count": 130,
   "id": "a8d41d9b-38b7-486e-ad35-61e94dcde2c2",
   "metadata": {},
   "outputs": [
    {
     "name": "stderr",
     "output_type": "stream",
     "text": [
      "                                                                                \r"
     ]
    },
    {
     "data": {
      "text/plain": [
       "0.8824951107336056"
      ]
     },
     "execution_count": 130,
     "metadata": {},
     "output_type": "execute_result"
    }
   ],
   "source": [
    "predictions = cv.transform(valid_subset)\n",
    "\n",
    "evaluator = MulticlassClassificationEvaluator(predictionCol=\"prediction\")\n",
    "evaluator.evaluate(predictions)"
   ]
  },
  {
   "cell_type": "code",
   "execution_count": 140,
   "id": "0a32f29d-0a9d-4207-9aca-5ac40ea26c01",
   "metadata": {},
   "outputs": [],
   "source": [
    "best_model = cv.bestModel"
   ]
  },
  {
   "cell_type": "code",
   "execution_count": 148,
   "id": "150fa50f-be26-455d-8fea-415f3f0e036d",
   "metadata": {},
   "outputs": [
    {
     "name": "stdout",
     "output_type": "stream",
     "text": [
      "Best regularization param: 0.1\n",
      "Best elastic net param: 0.0\n",
      "Best max iter: 50\n"
     ]
    }
   ],
   "source": [
    "print(f\"Best regularization param: {best_model.getRegParam()}\")\n",
    "print(f\"Best elastic net param: {best_model.getElasticNetParam()}\")\n",
    "print(f\"Best max iter: {best_model.getMaxIter()}\")"
   ]
  },
  {
   "cell_type": "markdown",
   "id": "37a8bb8e-1941-478a-9029-71efe391ce87",
   "metadata": {},
   "source": [
    "# Learning Curve Experiment"
   ]
  },
  {
   "cell_type": "code",
   "execution_count": 153,
   "id": "4220279f-e932-4018-af4c-1160ccc5f195",
   "metadata": {},
   "outputs": [],
   "source": [
    "# regular expression tokenizer\n",
    "tokenizer = RegexTokenizer(inputCol=\"text\", outputCol=\"words\", pattern=\"\\\\W\")\n",
    "# bag of words count\n",
    "count_vectorizer = CountVectorizer(inputCol=\"words\", outputCol=\"features\", vocabSize=10000, minDF=5)\n",
    "##\n",
    "label_indexer = StringIndexer(inputCol=\"category\", outputCol=\"label\")"
   ]
  },
  {
   "cell_type": "code",
   "execution_count": 154,
   "id": "a4fc40ea-b5f6-4095-9244-aa504b53c079",
   "metadata": {},
   "outputs": [
    {
     "name": "stderr",
     "output_type": "stream",
     "text": [
      "                                                                                \r"
     ]
    }
   ],
   "source": [
    "pipeline = Pipeline(stages=[tokenizer, count_vectorizer, label_indexer])\n",
    "# Fit the pipeline to training documents.\n",
    "pipeline = pipeline.fit(data)\n",
    "dataset = pipeline.transform(data)"
   ]
  },
  {
   "cell_type": "code",
   "execution_count": 160,
   "id": "e4f12be7-7836-4c92-9635-1849ff322890",
   "metadata": {},
   "outputs": [],
   "source": [
    "train_data, valid_data = training_data.randomSplit([0.95, 0.05], seed=42)"
   ]
  },
  {
   "cell_type": "markdown",
   "id": "c3973fca-82b1-411b-a067-f478d945d7fa",
   "metadata": {},
   "source": [
    "## Small"
   ]
  },
  {
   "cell_type": "code",
   "execution_count": 162,
   "id": "24faf2f0-dae4-4ad2-a22a-e2438468eb66",
   "metadata": {},
   "outputs": [
    {
     "name": "stderr",
     "output_type": "stream",
     "text": [
      "[Stage 9046:===================================================>  (24 + 1) / 25]\r"
     ]
    },
    {
     "name": "stdout",
     "output_type": "stream",
     "text": [
      "Training subset count: 394353\n"
     ]
    },
    {
     "name": "stderr",
     "output_type": "stream",
     "text": [
      "                                                                                \r"
     ]
    }
   ],
   "source": [
    "_, train_subset = train_data.randomSplit([0.7, 0.3], seed=42)\n",
    "print(f\"Training subset count: {train_subset.count()}\")"
   ]
  },
  {
   "cell_type": "code",
   "execution_count": 181,
   "id": "601cfcfe-ee66-48c8-84eb-717e1d13ddf2",
   "metadata": {},
   "outputs": [],
   "source": [
    "lr = LogisticRegression(maxIter=50, regParam=0.1, elasticNetParam=0)\n",
    "lr = lr.fit(train_subset)"
   ]
  },
  {
   "cell_type": "code",
   "execution_count": 166,
   "id": "ea8a2554-c998-42eb-8a4b-4533bbf93a8d",
   "metadata": {},
   "outputs": [
    {
     "name": "stderr",
     "output_type": "stream",
     "text": [
      "                                                                                \r"
     ]
    },
    {
     "data": {
      "text/plain": [
       "0.8854572662981226"
      ]
     },
     "execution_count": 166,
     "metadata": {},
     "output_type": "execute_result"
    }
   ],
   "source": [
    "predictions = lr.transform(valid_subset)\n",
    "\n",
    "evaluator = MulticlassClassificationEvaluator(predictionCol=\"prediction\")\n",
    "evaluator.evaluate(predictions)"
   ]
  },
  {
   "cell_type": "markdown",
   "id": "4b8036ce-4507-4c54-9606-3a39960b303b",
   "metadata": {},
   "source": [
    "## Medium"
   ]
  },
  {
   "cell_type": "code",
   "execution_count": 167,
   "id": "656cfbca-5f38-4d6a-b870-58b7afd2e25e",
   "metadata": {},
   "outputs": [
    {
     "name": "stderr",
     "output_type": "stream",
     "text": [
      "[Stage 9162:===================================================>  (24 + 1) / 25]\r"
     ]
    },
    {
     "name": "stdout",
     "output_type": "stream",
     "text": [
      "Training subset count: 788727\n"
     ]
    },
    {
     "name": "stderr",
     "output_type": "stream",
     "text": [
      "                                                                                \r"
     ]
    }
   ],
   "source": [
    "_, train_subset = train_data.randomSplit([0.4, 0.6], seed=42)\n",
    "print(f\"Training subset count: {train_subset.count()}\")"
   ]
  },
  {
   "cell_type": "code",
   "execution_count": 180,
   "id": "1af4b7b5-f886-4448-b5e8-6b966396be1a",
   "metadata": {},
   "outputs": [],
   "source": [
    "lr = LogisticRegression(maxIter=50, regParam=0.1, elasticNetParam=0)\n",
    "lr = lr.fit(train_subset)"
   ]
  },
  {
   "cell_type": "code",
   "execution_count": 169,
   "id": "85f4db5a-2eaa-4455-896b-28b86003e67d",
   "metadata": {},
   "outputs": [
    {
     "name": "stderr",
     "output_type": "stream",
     "text": [
      "                                                                                \r"
     ]
    },
    {
     "data": {
      "text/plain": [
       "0.8862211457835156"
      ]
     },
     "execution_count": 169,
     "metadata": {},
     "output_type": "execute_result"
    }
   ],
   "source": [
    "predictions = lr.transform(valid_subset)"
   ]
  },
  {
   "cell_type": "code",
   "execution_count": 171,
   "id": "79708b95-6c05-4a4d-8686-f311ba1de7f0",
   "metadata": {},
   "outputs": [
    {
     "name": "stderr",
     "output_type": "stream",
     "text": [
      "                                                                                \r"
     ]
    },
    {
     "data": {
      "text/plain": [
       "0.8862211457835156"
      ]
     },
     "execution_count": 171,
     "metadata": {},
     "output_type": "execute_result"
    }
   ],
   "source": [
    "evaluator = MulticlassClassificationEvaluator(predictionCol=\"prediction\")\n",
    "evaluator.setMetricName(\"f1\")\n",
    "evaluator.evaluate(predictions)"
   ]
  },
  {
   "cell_type": "markdown",
   "id": "730873fd-2eae-4457-81ad-709bed0c4fd6",
   "metadata": {
    "tags": []
   },
   "source": [
    "# Full training dataset"
   ]
  },
  {
   "cell_type": "code",
   "execution_count": 424,
   "id": "02b44d25-1068-4df5-b3e2-d3bc36c7c4b9",
   "metadata": {},
   "outputs": [
    {
     "name": "stderr",
     "output_type": "stream",
     "text": [
      "                                                                                \r"
     ]
    }
   ],
   "source": [
    "# loading raw json data\n",
    "path = './data/arxiv-metadata-oai-snapshot.json'\n",
    "\n",
    "raw_data = spark.read.json(path)\n",
    "\n",
    "# unify the subcategories and remove unneeded columns\n",
    "data = unify_subcategories(raw_data, category_index)\n",
    "data = data.select(['category', 'text'])\n",
    "\n",
    "# regular expression tokenizer\n",
    "tokenizer = RegexTokenizer(inputCol=\"text\", outputCol=\"words\", pattern=\"\\\\W\")\n",
    "\n",
    "# remove stopwords\n",
    "stopwords_remover = StopWordsRemover(inputCol=\"words\", outputCol=\"filtered\")\n",
    "\n",
    "# bag of words count\n",
    "count_vectorizer = CountVectorizer(inputCol=\"filtered\", outputCol=\"features\", vocabSize=10000, minDF=5)\n",
    "\n",
    "##\n",
    "label_indexer = StringIndexer(inputCol=\"category\", outputCol=\"label\")\n",
    "\n",
    "pipeline = Pipeline(stages=[tokenizer, stopwords_remover, count_vectorizer, label_indexer])\n",
    "# Fit the pipeline to training documents.\n",
    "pipeline = pipeline.fit(data)\n",
    "dataset = pipeline.transform(data)\n",
    "\n",
    "training_data, test_data = dataset.randomSplit([0.7, 0.3], seed = 42)\n",
    "train_data, valid_data = training_data.randomSplit([0.7, 0.3], seed=42)"
   ]
  },
  {
   "cell_type": "code",
   "execution_count": 425,
   "id": "f69bfac2-87b9-4734-b402-861f462481a0",
   "metadata": {},
   "outputs": [
    {
     "name": "stderr",
     "output_type": "stream",
     "text": [
      "21/12/12 17:11:21 WARN MemoryStore: Not enough space to cache rdd_25451_3 in memory! (computed 17.0 MiB so far)\n",
      "21/12/12 17:11:21 WARN MemoryStore: Not enough space to cache rdd_25451_4 in memory! (computed 17.0 MiB so far)\n",
      "21/12/12 17:11:21 WARN MemoryStore: Not enough space to cache rdd_25451_6 in memory! (computed 17.0 MiB so far)\n",
      "21/12/12 17:11:21 WARN MemoryStore: Not enough space to cache rdd_25451_5 in memory! (computed 17.0 MiB so far)\n",
      "21/12/12 17:11:21 WARN MemoryStore: Not enough space to cache rdd_25451_7 in memory! (computed 17.0 MiB so far)\n",
      "21/12/12 17:11:21 WARN MemoryStore: Not enough space to cache rdd_25451_10 in memory! (computed 17.0 MiB so far)\n",
      "21/12/12 17:11:21 WARN MemoryStore: Not enough space to cache rdd_25451_8 in memory! (computed 17.0 MiB so far)\n",
      "21/12/12 17:11:21 WARN MemoryStore: Not enough space to cache rdd_25451_11 in memory! (computed 17.0 MiB so far)\n",
      "21/12/12 17:11:22 WARN MemoryStore: Not enough space to cache rdd_25451_12 in memory! (computed 17.0 MiB so far)\n",
      "21/12/12 17:11:22 WARN MemoryStore: Not enough space to cache rdd_25451_13 in memory! (computed 17.0 MiB so far)\n",
      "21/12/12 17:11:22 WARN MemoryStore: Not enough space to cache rdd_25451_17 in memory! (computed 17.0 MiB so far)\n",
      "21/12/12 17:11:22 WARN MemoryStore: Not enough space to cache rdd_25451_19 in memory! (computed 17.0 MiB so far)\n",
      "21/12/12 17:11:22 WARN MemoryStore: Not enough space to cache rdd_25451_3 in memory! (computed 17.0 MiB so far)\n",
      "21/12/12 17:11:23 WARN MemoryStore: Not enough space to cache rdd_25451_4 in memory! (computed 17.0 MiB so far)\n",
      "21/12/12 17:11:23 WARN MemoryStore: Not enough space to cache rdd_25451_5 in memory! (computed 17.0 MiB so far)\n",
      "21/12/12 17:11:23 WARN MemoryStore: Not enough space to cache rdd_25451_6 in memory! (computed 17.0 MiB so far)\n",
      "21/12/12 17:11:23 WARN MemoryStore: Not enough space to cache rdd_25451_7 in memory! (computed 17.0 MiB so far)\n",
      "21/12/12 17:11:23 WARN MemoryStore: Not enough space to cache rdd_25451_8 in memory! (computed 17.0 MiB so far)\n",
      "21/12/12 17:11:23 WARN MemoryStore: Not enough space to cache rdd_25451_10 in memory! (computed 17.0 MiB so far)\n",
      "21/12/12 17:11:23 WARN MemoryStore: Not enough space to cache rdd_25451_11 in memory! (computed 17.0 MiB so far)\n",
      "21/12/12 17:11:23 WARN MemoryStore: Not enough space to cache rdd_25451_12 in memory! (computed 17.0 MiB so far)\n",
      "21/12/12 17:11:23 WARN MemoryStore: Not enough space to cache rdd_25451_13 in memory! (computed 17.0 MiB so far)\n",
      "21/12/12 17:11:24 WARN MemoryStore: Not enough space to cache rdd_25451_17 in memory! (computed 17.0 MiB so far)\n",
      "21/12/12 17:11:24 WARN MemoryStore: Not enough space to cache rdd_25451_19 in memory! (computed 17.0 MiB so far)\n",
      "21/12/12 17:11:24 WARN MemoryStore: Not enough space to cache rdd_25451_3 in memory! (computed 17.0 MiB so far)\n",
      "21/12/12 17:11:24 WARN MemoryStore: Not enough space to cache rdd_25451_4 in memory! (computed 17.0 MiB so far)\n",
      "21/12/12 17:11:24 WARN MemoryStore: Not enough space to cache rdd_25451_5 in memory! (computed 17.0 MiB so far)\n",
      "21/12/12 17:11:24 WARN MemoryStore: Not enough space to cache rdd_25451_6 in memory! (computed 17.0 MiB so far)\n",
      "21/12/12 17:11:24 WARN MemoryStore: Not enough space to cache rdd_25451_7 in memory! (computed 17.0 MiB so far)\n",
      "21/12/12 17:11:25 WARN MemoryStore: Not enough space to cache rdd_25451_8 in memory! (computed 17.0 MiB so far)\n",
      "21/12/12 17:11:25 WARN MemoryStore: Not enough space to cache rdd_25451_10 in memory! (computed 17.0 MiB so far)\n",
      "21/12/12 17:11:25 WARN MemoryStore: Not enough space to cache rdd_25451_11 in memory! (computed 17.0 MiB so far)\n",
      "21/12/12 17:11:25 WARN MemoryStore: Not enough space to cache rdd_25451_12 in memory! (computed 17.0 MiB so far)\n",
      "21/12/12 17:11:25 WARN MemoryStore: Not enough space to cache rdd_25451_13 in memory! (computed 17.0 MiB so far)\n",
      "21/12/12 17:11:25 WARN MemoryStore: Not enough space to cache rdd_25451_17 in memory! (computed 17.0 MiB so far)\n",
      "21/12/12 17:11:25 WARN MemoryStore: Not enough space to cache rdd_25451_19 in memory! (computed 17.0 MiB so far)\n",
      "21/12/12 17:11:26 WARN MemoryStore: Not enough space to cache rdd_25451_3 in memory! (computed 17.0 MiB so far)\n",
      "21/12/12 17:11:26 WARN MemoryStore: Not enough space to cache rdd_25451_4 in memory! (computed 17.0 MiB so far)\n",
      "21/12/12 17:11:26 WARN MemoryStore: Not enough space to cache rdd_25451_5 in memory! (computed 17.0 MiB so far)\n",
      "21/12/12 17:11:26 WARN MemoryStore: Not enough space to cache rdd_25451_6 in memory! (computed 17.0 MiB so far)\n",
      "21/12/12 17:11:26 WARN MemoryStore: Not enough space to cache rdd_25451_7 in memory! (computed 17.0 MiB so far)\n",
      "21/12/12 17:11:26 WARN MemoryStore: Not enough space to cache rdd_25451_8 in memory! (computed 17.0 MiB so far)\n",
      "21/12/12 17:11:26 WARN MemoryStore: Not enough space to cache rdd_25451_10 in memory! (computed 17.0 MiB so far)\n",
      "21/12/12 17:11:26 WARN MemoryStore: Not enough space to cache rdd_25451_11 in memory! (computed 17.0 MiB so far)\n",
      "21/12/12 17:11:26 WARN MemoryStore: Not enough space to cache rdd_25451_12 in memory! (computed 17.0 MiB so far)\n",
      "21/12/12 17:11:27 WARN MemoryStore: Not enough space to cache rdd_25451_13 in memory! (computed 17.0 MiB so far)\n",
      "21/12/12 17:11:27 WARN MemoryStore: Not enough space to cache rdd_25451_17 in memory! (computed 17.0 MiB so far)\n",
      "21/12/12 17:11:27 WARN MemoryStore: Not enough space to cache rdd_25451_19 in memory! (computed 17.0 MiB so far)\n",
      "21/12/12 17:11:27 WARN MemoryStore: Not enough space to cache rdd_25451_3 in memory! (computed 17.0 MiB so far)\n",
      "21/12/12 17:11:27 WARN MemoryStore: Not enough space to cache rdd_25451_4 in memory! (computed 17.0 MiB so far)\n",
      "21/12/12 17:11:27 WARN MemoryStore: Not enough space to cache rdd_25451_5 in memory! (computed 17.0 MiB so far)\n",
      "21/12/12 17:11:27 WARN MemoryStore: Not enough space to cache rdd_25451_6 in memory! (computed 17.0 MiB so far)\n",
      "21/12/12 17:11:28 WARN MemoryStore: Not enough space to cache rdd_25451_7 in memory! (computed 17.0 MiB so far)\n",
      "21/12/12 17:11:28 WARN MemoryStore: Not enough space to cache rdd_25451_8 in memory! (computed 17.0 MiB so far)\n",
      "21/12/12 17:11:28 WARN MemoryStore: Not enough space to cache rdd_25451_10 in memory! (computed 17.0 MiB so far)\n",
      "21/12/12 17:11:28 WARN MemoryStore: Not enough space to cache rdd_25451_11 in memory! (computed 17.0 MiB so far)\n",
      "21/12/12 17:11:28 WARN MemoryStore: Not enough space to cache rdd_25451_12 in memory! (computed 17.0 MiB so far)\n",
      "21/12/12 17:11:28 WARN MemoryStore: Not enough space to cache rdd_25451_13 in memory! (computed 17.0 MiB so far)\n",
      "21/12/12 17:11:28 WARN MemoryStore: Not enough space to cache rdd_25451_17 in memory! (computed 17.0 MiB so far)\n",
      "21/12/12 17:11:28 WARN MemoryStore: Not enough space to cache rdd_25451_19 in memory! (computed 17.0 MiB so far)\n",
      "21/12/12 17:11:29 WARN MemoryStore: Not enough space to cache rdd_25451_3 in memory! (computed 17.0 MiB so far)\n",
      "21/12/12 17:11:29 WARN MemoryStore: Not enough space to cache rdd_25451_5 in memory! (computed 17.0 MiB so far)\n",
      "21/12/12 17:11:29 WARN MemoryStore: Not enough space to cache rdd_25451_4 in memory! (computed 17.0 MiB so far)\n",
      "21/12/12 17:11:29 WARN MemoryStore: Not enough space to cache rdd_25451_6 in memory! (computed 17.0 MiB so far)\n",
      "21/12/12 17:11:29 WARN MemoryStore: Not enough space to cache rdd_25451_7 in memory! (computed 17.0 MiB so far)\n",
      "21/12/12 17:11:29 WARN MemoryStore: Not enough space to cache rdd_25451_8 in memory! (computed 17.0 MiB so far)\n",
      "21/12/12 17:11:29 WARN MemoryStore: Not enough space to cache rdd_25451_10 in memory! (computed 17.0 MiB so far)\n",
      "21/12/12 17:11:29 WARN MemoryStore: Not enough space to cache rdd_25451_11 in memory! (computed 17.0 MiB so far)\n",
      "21/12/12 17:11:30 WARN MemoryStore: Not enough space to cache rdd_25451_12 in memory! (computed 17.0 MiB so far)\n",
      "21/12/12 17:11:30 WARN MemoryStore: Not enough space to cache rdd_25451_13 in memory! (computed 17.0 MiB so far)\n",
      "21/12/12 17:11:30 WARN MemoryStore: Not enough space to cache rdd_25451_17 in memory! (computed 17.0 MiB so far)\n",
      "21/12/12 17:11:30 WARN MemoryStore: Not enough space to cache rdd_25451_19 in memory! (computed 17.0 MiB so far)\n",
      "21/12/12 17:11:31 WARN MemoryStore: Not enough space to cache rdd_25451_3 in memory! (computed 17.0 MiB so far)\n",
      "21/12/12 17:11:31 WARN MemoryStore: Not enough space to cache rdd_25451_4 in memory! (computed 17.0 MiB so far)\n",
      "21/12/12 17:11:31 WARN MemoryStore: Not enough space to cache rdd_25451_5 in memory! (computed 17.0 MiB so far)\n",
      "21/12/12 17:11:31 WARN MemoryStore: Not enough space to cache rdd_25451_6 in memory! (computed 17.0 MiB so far)\n",
      "21/12/12 17:11:31 WARN MemoryStore: Not enough space to cache rdd_25451_7 in memory! (computed 17.0 MiB so far)\n",
      "21/12/12 17:11:31 WARN MemoryStore: Not enough space to cache rdd_25451_8 in memory! (computed 17.0 MiB so far)\n",
      "21/12/12 17:11:31 WARN MemoryStore: Not enough space to cache rdd_25451_10 in memory! (computed 17.0 MiB so far)\n",
      "21/12/12 17:11:31 WARN MemoryStore: Not enough space to cache rdd_25451_11 in memory! (computed 17.0 MiB so far)\n",
      "21/12/12 17:11:31 WARN MemoryStore: Not enough space to cache rdd_25451_12 in memory! (computed 17.0 MiB so far)\n",
      "21/12/12 17:11:32 WARN MemoryStore: Not enough space to cache rdd_25451_13 in memory! (computed 17.0 MiB so far)\n",
      "21/12/12 17:11:32 WARN MemoryStore: Not enough space to cache rdd_25451_17 in memory! (computed 17.0 MiB so far)\n",
      "21/12/12 17:11:32 WARN MemoryStore: Not enough space to cache rdd_25451_19 in memory! (computed 17.0 MiB so far)\n",
      "21/12/12 17:11:32 WARN MemoryStore: Not enough space to cache rdd_25451_3 in memory! (computed 17.0 MiB so far)\n",
      "21/12/12 17:11:33 WARN MemoryStore: Not enough space to cache rdd_25451_6 in memory! (computed 17.0 MiB so far)\n",
      "21/12/12 17:11:33 WARN MemoryStore: Not enough space to cache rdd_25451_5 in memory! (computed 17.0 MiB so far)\n",
      "21/12/12 17:11:33 WARN MemoryStore: Not enough space to cache rdd_25451_4 in memory! (computed 17.0 MiB so far)\n",
      "21/12/12 17:11:33 WARN MemoryStore: Not enough space to cache rdd_25451_7 in memory! (computed 17.0 MiB so far)\n",
      "21/12/12 17:11:33 WARN MemoryStore: Not enough space to cache rdd_25451_8 in memory! (computed 17.0 MiB so far)\n",
      "21/12/12 17:11:33 WARN MemoryStore: Not enough space to cache rdd_25451_10 in memory! (computed 17.0 MiB so far)\n",
      "21/12/12 17:11:33 WARN MemoryStore: Not enough space to cache rdd_25451_11 in memory! (computed 17.0 MiB so far)\n",
      "21/12/12 17:11:33 WARN MemoryStore: Not enough space to cache rdd_25451_12 in memory! (computed 17.0 MiB so far)\n",
      "21/12/12 17:11:33 WARN MemoryStore: Not enough space to cache rdd_25451_13 in memory! (computed 17.0 MiB so far)\n",
      "21/12/12 17:11:33 WARN MemoryStore: Not enough space to cache rdd_25451_17 in memory! (computed 17.0 MiB so far)\n",
      "21/12/12 17:11:33 WARN MemoryStore: Not enough space to cache rdd_25451_19 in memory! (computed 17.0 MiB so far)\n",
      "21/12/12 17:11:34 WARN MemoryStore: Not enough space to cache rdd_25451_3 in memory! (computed 17.0 MiB so far)\n",
      "21/12/12 17:11:34 WARN MemoryStore: Not enough space to cache rdd_25451_4 in memory! (computed 17.0 MiB so far)\n",
      "21/12/12 17:11:34 WARN MemoryStore: Not enough space to cache rdd_25451_5 in memory! (computed 17.0 MiB so far)\n",
      "21/12/12 17:11:34 WARN MemoryStore: Not enough space to cache rdd_25451_6 in memory! (computed 17.0 MiB so far)\n",
      "21/12/12 17:11:34 WARN MemoryStore: Not enough space to cache rdd_25451_7 in memory! (computed 17.0 MiB so far)\n",
      "21/12/12 17:11:34 WARN MemoryStore: Not enough space to cache rdd_25451_8 in memory! (computed 17.0 MiB so far)\n",
      "21/12/12 17:11:34 WARN MemoryStore: Not enough space to cache rdd_25451_10 in memory! (computed 17.0 MiB so far)\n",
      "21/12/12 17:11:34 WARN MemoryStore: Not enough space to cache rdd_25451_11 in memory! (computed 17.0 MiB so far)\n",
      "21/12/12 17:11:34 WARN MemoryStore: Not enough space to cache rdd_25451_12 in memory! (computed 17.0 MiB so far)\n",
      "21/12/12 17:11:35 WARN MemoryStore: Not enough space to cache rdd_25451_13 in memory! (computed 17.0 MiB so far)\n",
      "21/12/12 17:11:35 WARN MemoryStore: Not enough space to cache rdd_25451_17 in memory! (computed 17.0 MiB so far)\n",
      "21/12/12 17:11:35 WARN MemoryStore: Not enough space to cache rdd_25451_19 in memory! (computed 17.0 MiB so far)\n",
      "21/12/12 17:11:35 WARN MemoryStore: Not enough space to cache rdd_25451_3 in memory! (computed 17.0 MiB so far)\n",
      "21/12/12 17:11:35 WARN MemoryStore: Not enough space to cache rdd_25451_4 in memory! (computed 17.0 MiB so far)\n",
      "21/12/12 17:11:35 WARN MemoryStore: Not enough space to cache rdd_25451_5 in memory! (computed 17.0 MiB so far)\n",
      "21/12/12 17:11:35 WARN MemoryStore: Not enough space to cache rdd_25451_6 in memory! (computed 17.0 MiB so far)\n",
      "21/12/12 17:11:36 WARN MemoryStore: Not enough space to cache rdd_25451_7 in memory! (computed 17.0 MiB so far)\n",
      "21/12/12 17:11:36 WARN MemoryStore: Not enough space to cache rdd_25451_8 in memory! (computed 17.0 MiB so far)\n",
      "21/12/12 17:11:36 WARN MemoryStore: Not enough space to cache rdd_25451_10 in memory! (computed 17.0 MiB so far)\n",
      "21/12/12 17:11:36 WARN MemoryStore: Not enough space to cache rdd_25451_11 in memory! (computed 17.0 MiB so far)\n",
      "21/12/12 17:11:36 WARN MemoryStore: Not enough space to cache rdd_25451_12 in memory! (computed 17.0 MiB so far)\n",
      "21/12/12 17:11:36 WARN MemoryStore: Not enough space to cache rdd_25451_13 in memory! (computed 17.0 MiB so far)\n",
      "21/12/12 17:11:36 WARN MemoryStore: Not enough space to cache rdd_25451_17 in memory! (computed 17.0 MiB so far)\n",
      "21/12/12 17:11:36 WARN MemoryStore: Not enough space to cache rdd_25451_19 in memory! (computed 17.0 MiB so far)\n",
      "21/12/12 17:11:37 WARN MemoryStore: Not enough space to cache rdd_25451_3 in memory! (computed 17.0 MiB so far)\n",
      "21/12/12 17:11:37 WARN MemoryStore: Not enough space to cache rdd_25451_4 in memory! (computed 17.0 MiB so far)\n",
      "21/12/12 17:11:37 WARN MemoryStore: Not enough space to cache rdd_25451_5 in memory! (computed 17.0 MiB so far)\n",
      "21/12/12 17:11:37 WARN MemoryStore: Not enough space to cache rdd_25451_6 in memory! (computed 17.0 MiB so far)\n",
      "21/12/12 17:11:37 WARN MemoryStore: Not enough space to cache rdd_25451_7 in memory! (computed 17.0 MiB so far)\n",
      "21/12/12 17:11:37 WARN MemoryStore: Not enough space to cache rdd_25451_8 in memory! (computed 17.0 MiB so far)\n",
      "21/12/12 17:11:37 WARN MemoryStore: Not enough space to cache rdd_25451_10 in memory! (computed 17.0 MiB so far)\n",
      "21/12/12 17:11:37 WARN MemoryStore: Not enough space to cache rdd_25451_11 in memory! (computed 17.0 MiB so far)\n",
      "21/12/12 17:11:38 WARN MemoryStore: Not enough space to cache rdd_25451_12 in memory! (computed 17.0 MiB so far)\n",
      "21/12/12 17:11:38 WARN MemoryStore: Not enough space to cache rdd_25451_13 in memory! (computed 17.0 MiB so far)\n",
      "21/12/12 17:11:38 WARN MemoryStore: Not enough space to cache rdd_25451_17 in memory! (computed 17.0 MiB so far)\n",
      "21/12/12 17:11:38 WARN MemoryStore: Not enough space to cache rdd_25451_19 in memory! (computed 17.0 MiB so far)\n",
      "21/12/12 17:11:38 WARN MemoryStore: Not enough space to cache rdd_25451_3 in memory! (computed 17.0 MiB so far)\n",
      "21/12/12 17:11:39 WARN MemoryStore: Not enough space to cache rdd_25451_5 in memory! (computed 17.0 MiB so far)\n",
      "21/12/12 17:11:39 WARN MemoryStore: Not enough space to cache rdd_25451_4 in memory! (computed 17.0 MiB so far)\n",
      "21/12/12 17:11:39 WARN MemoryStore: Not enough space to cache rdd_25451_6 in memory! (computed 17.0 MiB so far)\n",
      "21/12/12 17:11:39 WARN MemoryStore: Not enough space to cache rdd_25451_7 in memory! (computed 17.0 MiB so far)\n",
      "21/12/12 17:11:39 WARN MemoryStore: Not enough space to cache rdd_25451_8 in memory! (computed 17.0 MiB so far)\n",
      "21/12/12 17:11:39 WARN MemoryStore: Not enough space to cache rdd_25451_10 in memory! (computed 17.0 MiB so far)\n",
      "21/12/12 17:11:39 WARN MemoryStore: Not enough space to cache rdd_25451_11 in memory! (computed 17.0 MiB so far)\n",
      "21/12/12 17:11:39 WARN MemoryStore: Not enough space to cache rdd_25451_12 in memory! (computed 17.0 MiB so far)\n",
      "21/12/12 17:11:39 WARN MemoryStore: Not enough space to cache rdd_25451_13 in memory! (computed 17.0 MiB so far)\n",
      "21/12/12 17:11:39 WARN MemoryStore: Not enough space to cache rdd_25451_17 in memory! (computed 17.0 MiB so far)\n",
      "21/12/12 17:11:39 WARN MemoryStore: Not enough space to cache rdd_25451_19 in memory! (computed 17.0 MiB so far)\n",
      "21/12/12 17:11:40 WARN MemoryStore: Not enough space to cache rdd_25451_3 in memory! (computed 17.0 MiB so far)\n",
      "21/12/12 17:11:40 WARN MemoryStore: Not enough space to cache rdd_25451_5 in memory! (computed 17.0 MiB so far)\n",
      "21/12/12 17:11:40 WARN MemoryStore: Not enough space to cache rdd_25451_6 in memory! (computed 17.0 MiB so far)\n",
      "21/12/12 17:11:40 WARN MemoryStore: Not enough space to cache rdd_25451_4 in memory! (computed 17.0 MiB so far)\n",
      "21/12/12 17:11:40 WARN MemoryStore: Not enough space to cache rdd_25451_7 in memory! (computed 17.0 MiB so far)\n",
      "21/12/12 17:11:40 WARN MemoryStore: Not enough space to cache rdd_25451_8 in memory! (computed 17.0 MiB so far)\n",
      "21/12/12 17:11:40 WARN MemoryStore: Not enough space to cache rdd_25451_10 in memory! (computed 17.0 MiB so far)\n",
      "21/12/12 17:11:40 WARN MemoryStore: Not enough space to cache rdd_25451_11 in memory! (computed 17.0 MiB so far)\n",
      "21/12/12 17:11:40 WARN MemoryStore: Not enough space to cache rdd_25451_12 in memory! (computed 17.0 MiB so far)\n",
      "21/12/12 17:11:41 WARN MemoryStore: Not enough space to cache rdd_25451_13 in memory! (computed 17.0 MiB so far)\n",
      "21/12/12 17:11:41 WARN MemoryStore: Not enough space to cache rdd_25451_17 in memory! (computed 17.0 MiB so far)\n",
      "21/12/12 17:11:41 WARN MemoryStore: Not enough space to cache rdd_25451_19 in memory! (computed 17.0 MiB so far)\n",
      "21/12/12 17:11:41 WARN MemoryStore: Not enough space to cache rdd_25451_3 in memory! (computed 17.0 MiB so far)\n",
      "21/12/12 17:11:41 WARN MemoryStore: Not enough space to cache rdd_25451_4 in memory! (computed 17.0 MiB so far)\n",
      "21/12/12 17:11:41 WARN MemoryStore: Not enough space to cache rdd_25451_5 in memory! (computed 17.0 MiB so far)\n",
      "21/12/12 17:11:41 WARN MemoryStore: Not enough space to cache rdd_25451_6 in memory! (computed 17.0 MiB so far)\n",
      "21/12/12 17:11:42 WARN MemoryStore: Not enough space to cache rdd_25451_7 in memory! (computed 17.0 MiB so far)\n",
      "21/12/12 17:11:42 WARN MemoryStore: Not enough space to cache rdd_25451_8 in memory! (computed 17.0 MiB so far)\n",
      "21/12/12 17:11:42 WARN MemoryStore: Not enough space to cache rdd_25451_10 in memory! (computed 17.0 MiB so far)\n",
      "21/12/12 17:11:42 WARN MemoryStore: Not enough space to cache rdd_25451_11 in memory! (computed 17.0 MiB so far)\n",
      "21/12/12 17:11:42 WARN MemoryStore: Not enough space to cache rdd_25451_12 in memory! (computed 17.0 MiB so far)\n",
      "21/12/12 17:11:42 WARN MemoryStore: Not enough space to cache rdd_25451_13 in memory! (computed 17.0 MiB so far)\n",
      "21/12/12 17:11:42 WARN MemoryStore: Not enough space to cache rdd_25451_17 in memory! (computed 17.0 MiB so far)\n",
      "21/12/12 17:11:42 WARN MemoryStore: Not enough space to cache rdd_25451_19 in memory! (computed 17.0 MiB so far)\n",
      "21/12/12 17:11:43 WARN MemoryStore: Not enough space to cache rdd_25451_3 in memory! (computed 17.0 MiB so far)\n",
      "21/12/12 17:11:43 WARN MemoryStore: Not enough space to cache rdd_25451_6 in memory! (computed 17.0 MiB so far)\n",
      "21/12/12 17:11:43 WARN MemoryStore: Not enough space to cache rdd_25451_5 in memory! (computed 17.0 MiB so far)\n",
      "21/12/12 17:11:43 WARN MemoryStore: Not enough space to cache rdd_25451_4 in memory! (computed 17.0 MiB so far)\n",
      "21/12/12 17:11:43 WARN MemoryStore: Not enough space to cache rdd_25451_7 in memory! (computed 17.0 MiB so far)\n",
      "21/12/12 17:11:43 WARN MemoryStore: Not enough space to cache rdd_25451_8 in memory! (computed 17.0 MiB so far)\n",
      "21/12/12 17:11:43 WARN MemoryStore: Not enough space to cache rdd_25451_10 in memory! (computed 17.0 MiB so far)\n",
      "21/12/12 17:11:43 WARN MemoryStore: Not enough space to cache rdd_25451_11 in memory! (computed 17.0 MiB so far)\n",
      "21/12/12 17:11:44 WARN MemoryStore: Not enough space to cache rdd_25451_12 in memory! (computed 17.0 MiB so far)\n",
      "21/12/12 17:11:44 WARN MemoryStore: Not enough space to cache rdd_25451_13 in memory! (computed 17.0 MiB so far)\n",
      "21/12/12 17:11:44 WARN MemoryStore: Not enough space to cache rdd_25451_17 in memory! (computed 17.0 MiB so far)\n",
      "21/12/12 17:11:44 WARN MemoryStore: Not enough space to cache rdd_25451_19 in memory! (computed 17.0 MiB so far)\n",
      "21/12/12 17:11:44 WARN MemoryStore: Not enough space to cache rdd_25451_3 in memory! (computed 17.0 MiB so far)\n",
      "21/12/12 17:11:45 WARN MemoryStore: Not enough space to cache rdd_25451_4 in memory! (computed 17.0 MiB so far)\n",
      "21/12/12 17:11:45 WARN MemoryStore: Not enough space to cache rdd_25451_6 in memory! (computed 17.0 MiB so far)\n",
      "21/12/12 17:11:45 WARN MemoryStore: Not enough space to cache rdd_25451_5 in memory! (computed 17.0 MiB so far)\n",
      "21/12/12 17:11:45 WARN MemoryStore: Not enough space to cache rdd_25451_7 in memory! (computed 17.0 MiB so far)\n",
      "21/12/12 17:11:45 WARN MemoryStore: Not enough space to cache rdd_25451_8 in memory! (computed 17.0 MiB so far)\n",
      "21/12/12 17:11:45 WARN MemoryStore: Not enough space to cache rdd_25451_10 in memory! (computed 17.0 MiB so far)\n",
      "21/12/12 17:11:45 WARN MemoryStore: Not enough space to cache rdd_25451_11 in memory! (computed 17.0 MiB so far)\n",
      "21/12/12 17:11:45 WARN MemoryStore: Not enough space to cache rdd_25451_12 in memory! (computed 17.0 MiB so far)\n",
      "21/12/12 17:11:45 WARN MemoryStore: Not enough space to cache rdd_25451_13 in memory! (computed 17.0 MiB so far)\n",
      "21/12/12 17:11:45 WARN MemoryStore: Not enough space to cache rdd_25451_17 in memory! (computed 17.0 MiB so far)\n",
      "21/12/12 17:11:46 WARN MemoryStore: Not enough space to cache rdd_25451_19 in memory! (computed 17.0 MiB so far)\n",
      "21/12/12 17:11:46 WARN MemoryStore: Not enough space to cache rdd_25451_3 in memory! (computed 17.0 MiB so far)\n",
      "21/12/12 17:11:46 WARN MemoryStore: Not enough space to cache rdd_25451_4 in memory! (computed 17.0 MiB so far)\n",
      "21/12/12 17:11:46 WARN MemoryStore: Not enough space to cache rdd_25451_5 in memory! (computed 17.0 MiB so far)\n",
      "21/12/12 17:11:46 WARN MemoryStore: Not enough space to cache rdd_25451_6 in memory! (computed 17.0 MiB so far)\n",
      "21/12/12 17:11:46 WARN MemoryStore: Not enough space to cache rdd_25451_7 in memory! (computed 17.0 MiB so far)\n",
      "21/12/12 17:11:47 WARN MemoryStore: Not enough space to cache rdd_25451_8 in memory! (computed 17.0 MiB so far)\n",
      "21/12/12 17:11:47 WARN MemoryStore: Not enough space to cache rdd_25451_10 in memory! (computed 17.0 MiB so far)\n",
      "21/12/12 17:11:47 WARN MemoryStore: Not enough space to cache rdd_25451_11 in memory! (computed 17.0 MiB so far)\n",
      "21/12/12 17:11:47 WARN MemoryStore: Not enough space to cache rdd_25451_12 in memory! (computed 17.0 MiB so far)\n",
      "21/12/12 17:11:47 WARN MemoryStore: Not enough space to cache rdd_25451_13 in memory! (computed 17.0 MiB so far)\n",
      "21/12/12 17:11:47 WARN MemoryStore: Not enough space to cache rdd_25451_17 in memory! (computed 17.0 MiB so far)\n",
      "21/12/12 17:11:47 WARN MemoryStore: Not enough space to cache rdd_25451_19 in memory! (computed 17.0 MiB so far)\n",
      "21/12/12 17:11:48 WARN MemoryStore: Not enough space to cache rdd_25451_3 in memory! (computed 17.0 MiB so far)\n",
      "21/12/12 17:11:48 WARN MemoryStore: Not enough space to cache rdd_25451_5 in memory! (computed 17.0 MiB so far)\n",
      "21/12/12 17:11:48 WARN MemoryStore: Not enough space to cache rdd_25451_4 in memory! (computed 17.0 MiB so far)\n",
      "21/12/12 17:11:48 WARN MemoryStore: Not enough space to cache rdd_25451_6 in memory! (computed 17.0 MiB so far)\n",
      "21/12/12 17:11:48 WARN MemoryStore: Not enough space to cache rdd_25451_7 in memory! (computed 17.0 MiB so far)\n",
      "21/12/12 17:11:48 WARN MemoryStore: Not enough space to cache rdd_25451_8 in memory! (computed 17.0 MiB so far)\n",
      "21/12/12 17:11:48 WARN MemoryStore: Not enough space to cache rdd_25451_10 in memory! (computed 17.0 MiB so far)\n",
      "21/12/12 17:11:48 WARN MemoryStore: Not enough space to cache rdd_25451_11 in memory! (computed 17.0 MiB so far)\n",
      "21/12/12 17:11:48 WARN MemoryStore: Not enough space to cache rdd_25451_12 in memory! (computed 17.0 MiB so far)\n",
      "21/12/12 17:11:48 WARN MemoryStore: Not enough space to cache rdd_25451_13 in memory! (computed 17.0 MiB so far)\n",
      "21/12/12 17:11:49 WARN MemoryStore: Not enough space to cache rdd_25451_17 in memory! (computed 17.0 MiB so far)\n",
      "21/12/12 17:11:49 WARN MemoryStore: Not enough space to cache rdd_25451_19 in memory! (computed 17.0 MiB so far)\n",
      "21/12/12 17:11:49 WARN MemoryStore: Not enough space to cache rdd_25451_3 in memory! (computed 17.0 MiB so far)\n",
      "21/12/12 17:11:49 WARN MemoryStore: Not enough space to cache rdd_25451_5 in memory! (computed 17.0 MiB so far)\n",
      "21/12/12 17:11:49 WARN MemoryStore: Not enough space to cache rdd_25451_4 in memory! (computed 17.0 MiB so far)\n",
      "21/12/12 17:11:49 WARN MemoryStore: Not enough space to cache rdd_25451_6 in memory! (computed 17.0 MiB so far)\n",
      "21/12/12 17:11:49 WARN MemoryStore: Not enough space to cache rdd_25451_7 in memory! (computed 17.0 MiB so far)\n",
      "21/12/12 17:11:50 WARN MemoryStore: Not enough space to cache rdd_25451_8 in memory! (computed 17.0 MiB so far)\n",
      "21/12/12 17:11:50 WARN MemoryStore: Not enough space to cache rdd_25451_10 in memory! (computed 17.0 MiB so far)\n",
      "21/12/12 17:11:50 WARN MemoryStore: Not enough space to cache rdd_25451_11 in memory! (computed 17.0 MiB so far)\n",
      "21/12/12 17:11:50 WARN MemoryStore: Not enough space to cache rdd_25451_12 in memory! (computed 17.0 MiB so far)\n",
      "21/12/12 17:11:50 WARN MemoryStore: Not enough space to cache rdd_25451_13 in memory! (computed 17.0 MiB so far)\n",
      "21/12/12 17:11:50 WARN MemoryStore: Not enough space to cache rdd_25451_17 in memory! (computed 17.0 MiB so far)\n",
      "21/12/12 17:11:50 WARN MemoryStore: Not enough space to cache rdd_25451_19 in memory! (computed 17.0 MiB so far)\n",
      "21/12/12 17:11:51 WARN MemoryStore: Not enough space to cache rdd_25451_3 in memory! (computed 17.0 MiB so far)\n",
      "21/12/12 17:11:51 WARN MemoryStore: Not enough space to cache rdd_25451_4 in memory! (computed 17.0 MiB so far)\n",
      "21/12/12 17:11:51 WARN MemoryStore: Not enough space to cache rdd_25451_5 in memory! (computed 17.0 MiB so far)\n",
      "21/12/12 17:11:51 WARN MemoryStore: Not enough space to cache rdd_25451_6 in memory! (computed 17.0 MiB so far)\n",
      "21/12/12 17:11:51 WARN MemoryStore: Not enough space to cache rdd_25451_7 in memory! (computed 17.0 MiB so far)\n",
      "21/12/12 17:11:51 WARN MemoryStore: Not enough space to cache rdd_25451_8 in memory! (computed 17.0 MiB so far)\n",
      "21/12/12 17:11:51 WARN MemoryStore: Not enough space to cache rdd_25451_10 in memory! (computed 17.0 MiB so far)\n",
      "21/12/12 17:11:51 WARN MemoryStore: Not enough space to cache rdd_25451_11 in memory! (computed 17.0 MiB so far)\n",
      "21/12/12 17:11:51 WARN MemoryStore: Not enough space to cache rdd_25451_12 in memory! (computed 17.0 MiB so far)\n",
      "21/12/12 17:11:51 WARN MemoryStore: Not enough space to cache rdd_25451_13 in memory! (computed 17.0 MiB so far)\n",
      "21/12/12 17:11:52 WARN MemoryStore: Not enough space to cache rdd_25451_17 in memory! (computed 17.0 MiB so far)\n",
      "21/12/12 17:11:52 WARN MemoryStore: Not enough space to cache rdd_25451_19 in memory! (computed 17.0 MiB so far)\n",
      "21/12/12 17:11:52 WARN MemoryStore: Not enough space to cache rdd_25451_3 in memory! (computed 17.0 MiB so far)\n",
      "21/12/12 17:11:53 WARN MemoryStore: Not enough space to cache rdd_25451_5 in memory! (computed 17.0 MiB so far)\n",
      "21/12/12 17:11:53 WARN MemoryStore: Not enough space to cache rdd_25451_4 in memory! (computed 17.0 MiB so far)\n",
      "21/12/12 17:11:53 WARN MemoryStore: Not enough space to cache rdd_25451_6 in memory! (computed 17.0 MiB so far)\n",
      "21/12/12 17:11:53 WARN MemoryStore: Not enough space to cache rdd_25451_7 in memory! (computed 17.0 MiB so far)\n",
      "21/12/12 17:11:53 WARN MemoryStore: Not enough space to cache rdd_25451_8 in memory! (computed 17.0 MiB so far)\n",
      "21/12/12 17:11:53 WARN MemoryStore: Not enough space to cache rdd_25451_10 in memory! (computed 17.0 MiB so far)\n",
      "21/12/12 17:11:53 WARN MemoryStore: Not enough space to cache rdd_25451_11 in memory! (computed 17.0 MiB so far)\n",
      "21/12/12 17:11:53 WARN MemoryStore: Not enough space to cache rdd_25451_12 in memory! (computed 17.0 MiB so far)\n",
      "21/12/12 17:11:53 WARN MemoryStore: Not enough space to cache rdd_25451_13 in memory! (computed 17.0 MiB so far)\n",
      "21/12/12 17:11:53 WARN MemoryStore: Not enough space to cache rdd_25451_17 in memory! (computed 17.0 MiB so far)\n",
      "21/12/12 17:11:53 WARN MemoryStore: Not enough space to cache rdd_25451_19 in memory! (computed 17.0 MiB so far)\n",
      "21/12/12 17:11:54 WARN MemoryStore: Not enough space to cache rdd_25451_3 in memory! (computed 17.0 MiB so far)\n",
      "21/12/12 17:11:54 WARN MemoryStore: Not enough space to cache rdd_25451_4 in memory! (computed 17.0 MiB so far)\n",
      "21/12/12 17:11:54 WARN MemoryStore: Not enough space to cache rdd_25451_6 in memory! (computed 17.0 MiB so far)\n",
      "21/12/12 17:11:54 WARN MemoryStore: Not enough space to cache rdd_25451_5 in memory! (computed 17.0 MiB so far)\n",
      "21/12/12 17:11:54 WARN MemoryStore: Not enough space to cache rdd_25451_7 in memory! (computed 17.0 MiB so far)\n",
      "21/12/12 17:11:54 WARN MemoryStore: Not enough space to cache rdd_25451_8 in memory! (computed 17.0 MiB so far)\n",
      "21/12/12 17:11:54 WARN MemoryStore: Not enough space to cache rdd_25451_10 in memory! (computed 17.0 MiB so far)\n",
      "21/12/12 17:11:55 WARN MemoryStore: Not enough space to cache rdd_25451_11 in memory! (computed 17.0 MiB so far)\n",
      "21/12/12 17:11:55 WARN MemoryStore: Not enough space to cache rdd_25451_12 in memory! (computed 17.0 MiB so far)\n",
      "21/12/12 17:11:55 WARN MemoryStore: Not enough space to cache rdd_25451_13 in memory! (computed 17.0 MiB so far)\n",
      "21/12/12 17:11:55 WARN MemoryStore: Not enough space to cache rdd_25451_17 in memory! (computed 17.0 MiB so far)\n",
      "21/12/12 17:11:55 WARN MemoryStore: Not enough space to cache rdd_25451_19 in memory! (computed 17.0 MiB so far)\n",
      "21/12/12 17:11:56 WARN MemoryStore: Not enough space to cache rdd_25451_3 in memory! (computed 17.0 MiB so far)\n",
      "21/12/12 17:11:56 WARN MemoryStore: Not enough space to cache rdd_25451_4 in memory! (computed 17.0 MiB so far)\n",
      "21/12/12 17:11:56 WARN MemoryStore: Not enough space to cache rdd_25451_6 in memory! (computed 17.0 MiB so far)\n",
      "21/12/12 17:11:56 WARN MemoryStore: Not enough space to cache rdd_25451_5 in memory! (computed 17.0 MiB so far)\n",
      "21/12/12 17:11:56 WARN MemoryStore: Not enough space to cache rdd_25451_7 in memory! (computed 17.0 MiB so far)\n",
      "21/12/12 17:11:56 WARN MemoryStore: Not enough space to cache rdd_25451_8 in memory! (computed 17.0 MiB so far)\n",
      "21/12/12 17:11:56 WARN MemoryStore: Not enough space to cache rdd_25451_10 in memory! (computed 17.0 MiB so far)\n",
      "21/12/12 17:11:56 WARN MemoryStore: Not enough space to cache rdd_25451_11 in memory! (computed 17.0 MiB so far)\n",
      "21/12/12 17:11:56 WARN MemoryStore: Not enough space to cache rdd_25451_12 in memory! (computed 17.0 MiB so far)\n",
      "21/12/12 17:11:56 WARN MemoryStore: Not enough space to cache rdd_25451_13 in memory! (computed 17.0 MiB so far)\n",
      "21/12/12 17:11:57 WARN MemoryStore: Not enough space to cache rdd_25451_17 in memory! (computed 17.0 MiB so far)\n",
      "21/12/12 17:11:57 WARN MemoryStore: Not enough space to cache rdd_25451_19 in memory! (computed 17.0 MiB so far)\n",
      "21/12/12 17:11:57 WARN MemoryStore: Not enough space to cache rdd_25451_3 in memory! (computed 17.0 MiB so far)\n",
      "21/12/12 17:11:58 WARN MemoryStore: Not enough space to cache rdd_25451_4 in memory! (computed 17.0 MiB so far)\n",
      "21/12/12 17:11:58 WARN MemoryStore: Not enough space to cache rdd_25451_5 in memory! (computed 17.0 MiB so far)\n",
      "21/12/12 17:11:58 WARN MemoryStore: Not enough space to cache rdd_25451_6 in memory! (computed 17.0 MiB so far)\n",
      "21/12/12 17:11:58 WARN MemoryStore: Not enough space to cache rdd_25451_7 in memory! (computed 17.0 MiB so far)\n",
      "21/12/12 17:11:58 WARN MemoryStore: Not enough space to cache rdd_25451_8 in memory! (computed 17.0 MiB so far)\n",
      "21/12/12 17:11:58 WARN MemoryStore: Not enough space to cache rdd_25451_10 in memory! (computed 17.0 MiB so far)\n",
      "21/12/12 17:11:58 WARN MemoryStore: Not enough space to cache rdd_25451_11 in memory! (computed 17.0 MiB so far)\n",
      "21/12/12 17:11:58 WARN MemoryStore: Not enough space to cache rdd_25451_12 in memory! (computed 17.0 MiB so far)\n",
      "21/12/12 17:11:58 WARN MemoryStore: Not enough space to cache rdd_25451_13 in memory! (computed 17.0 MiB so far)\n",
      "21/12/12 17:11:59 WARN MemoryStore: Not enough space to cache rdd_25451_17 in memory! (computed 17.0 MiB so far)\n",
      "21/12/12 17:11:59 WARN MemoryStore: Not enough space to cache rdd_25451_19 in memory! (computed 17.0 MiB so far)\n",
      "21/12/12 17:11:59 WARN MemoryStore: Not enough space to cache rdd_25451_3 in memory! (computed 17.0 MiB so far)\n",
      "21/12/12 17:11:59 WARN MemoryStore: Not enough space to cache rdd_25451_4 in memory! (computed 17.0 MiB so far)\n",
      "21/12/12 17:11:59 WARN MemoryStore: Not enough space to cache rdd_25451_5 in memory! (computed 17.0 MiB so far)\n",
      "21/12/12 17:11:59 WARN MemoryStore: Not enough space to cache rdd_25451_6 in memory! (computed 17.0 MiB so far)\n",
      "21/12/12 17:11:59 WARN MemoryStore: Not enough space to cache rdd_25451_7 in memory! (computed 17.0 MiB so far)\n",
      "21/12/12 17:12:00 WARN MemoryStore: Not enough space to cache rdd_25451_8 in memory! (computed 17.0 MiB so far)\n",
      "21/12/12 17:12:00 WARN MemoryStore: Not enough space to cache rdd_25451_10 in memory! (computed 17.0 MiB so far)\n",
      "21/12/12 17:12:00 WARN MemoryStore: Not enough space to cache rdd_25451_11 in memory! (computed 17.0 MiB so far)\n",
      "21/12/12 17:12:00 WARN MemoryStore: Not enough space to cache rdd_25451_12 in memory! (computed 17.0 MiB so far)\n",
      "21/12/12 17:12:00 WARN MemoryStore: Not enough space to cache rdd_25451_13 in memory! (computed 17.0 MiB so far)\n",
      "21/12/12 17:12:00 WARN MemoryStore: Not enough space to cache rdd_25451_17 in memory! (computed 17.0 MiB so far)\n",
      "21/12/12 17:12:00 WARN MemoryStore: Not enough space to cache rdd_25451_19 in memory! (computed 17.0 MiB so far)\n",
      "21/12/12 17:12:01 WARN MemoryStore: Not enough space to cache rdd_25451_3 in memory! (computed 17.0 MiB so far)\n",
      "21/12/12 17:12:01 WARN MemoryStore: Not enough space to cache rdd_25451_4 in memory! (computed 17.0 MiB so far)\n",
      "21/12/12 17:12:01 WARN MemoryStore: Not enough space to cache rdd_25451_5 in memory! (computed 17.0 MiB so far)\n",
      "21/12/12 17:12:01 WARN MemoryStore: Not enough space to cache rdd_25451_6 in memory! (computed 17.0 MiB so far)\n",
      "21/12/12 17:12:01 WARN MemoryStore: Not enough space to cache rdd_25451_7 in memory! (computed 17.0 MiB so far)\n",
      "21/12/12 17:12:01 WARN MemoryStore: Not enough space to cache rdd_25451_8 in memory! (computed 17.0 MiB so far)\n",
      "21/12/12 17:12:01 WARN MemoryStore: Not enough space to cache rdd_25451_10 in memory! (computed 17.0 MiB so far)\n",
      "21/12/12 17:12:01 WARN MemoryStore: Not enough space to cache rdd_25451_11 in memory! (computed 17.0 MiB so far)\n",
      "21/12/12 17:12:01 WARN MemoryStore: Not enough space to cache rdd_25451_12 in memory! (computed 17.0 MiB so far)\n",
      "21/12/12 17:12:01 WARN MemoryStore: Not enough space to cache rdd_25451_13 in memory! (computed 17.0 MiB so far)\n",
      "21/12/12 17:12:02 WARN MemoryStore: Not enough space to cache rdd_25451_17 in memory! (computed 17.0 MiB so far)\n",
      "21/12/12 17:12:02 WARN MemoryStore: Not enough space to cache rdd_25451_19 in memory! (computed 17.0 MiB so far)\n",
      "21/12/12 17:12:02 WARN MemoryStore: Not enough space to cache rdd_25451_3 in memory! (computed 17.0 MiB so far)\n",
      "21/12/12 17:12:02 WARN MemoryStore: Not enough space to cache rdd_25451_5 in memory! (computed 17.0 MiB so far)\n",
      "21/12/12 17:12:02 WARN MemoryStore: Not enough space to cache rdd_25451_4 in memory! (computed 17.0 MiB so far)\n",
      "21/12/12 17:12:02 WARN MemoryStore: Not enough space to cache rdd_25451_6 in memory! (computed 17.0 MiB so far)\n",
      "21/12/12 17:12:02 WARN MemoryStore: Not enough space to cache rdd_25451_7 in memory! (computed 17.0 MiB so far)\n",
      "21/12/12 17:12:03 WARN MemoryStore: Not enough space to cache rdd_25451_8 in memory! (computed 17.0 MiB so far)\n",
      "21/12/12 17:12:03 WARN MemoryStore: Not enough space to cache rdd_25451_10 in memory! (computed 17.0 MiB so far)\n",
      "21/12/12 17:12:03 WARN MemoryStore: Not enough space to cache rdd_25451_11 in memory! (computed 17.0 MiB so far)\n",
      "21/12/12 17:12:03 WARN MemoryStore: Not enough space to cache rdd_25451_12 in memory! (computed 17.0 MiB so far)\n",
      "21/12/12 17:12:03 WARN MemoryStore: Not enough space to cache rdd_25451_13 in memory! (computed 17.0 MiB so far)\n",
      "21/12/12 17:12:03 WARN MemoryStore: Not enough space to cache rdd_25451_17 in memory! (computed 17.0 MiB so far)\n",
      "21/12/12 17:12:03 WARN MemoryStore: Not enough space to cache rdd_25451_19 in memory! (computed 17.0 MiB so far)\n",
      "21/12/12 17:12:04 WARN MemoryStore: Not enough space to cache rdd_25451_3 in memory! (computed 17.0 MiB so far)\n",
      "21/12/12 17:12:04 WARN MemoryStore: Not enough space to cache rdd_25451_4 in memory! (computed 17.0 MiB so far)\n",
      "21/12/12 17:12:04 WARN MemoryStore: Not enough space to cache rdd_25451_5 in memory! (computed 17.0 MiB so far)\n",
      "21/12/12 17:12:04 WARN MemoryStore: Not enough space to cache rdd_25451_6 in memory! (computed 17.0 MiB so far)\n",
      "21/12/12 17:12:04 WARN MemoryStore: Not enough space to cache rdd_25451_7 in memory! (computed 17.0 MiB so far)\n",
      "21/12/12 17:12:04 WARN MemoryStore: Not enough space to cache rdd_25451_8 in memory! (computed 17.0 MiB so far)\n",
      "21/12/12 17:12:04 WARN MemoryStore: Not enough space to cache rdd_25451_10 in memory! (computed 17.0 MiB so far)\n",
      "21/12/12 17:12:04 WARN MemoryStore: Not enough space to cache rdd_25451_11 in memory! (computed 17.0 MiB so far)\n",
      "21/12/12 17:12:04 WARN MemoryStore: Not enough space to cache rdd_25451_12 in memory! (computed 17.0 MiB so far)\n",
      "21/12/12 17:12:04 WARN MemoryStore: Not enough space to cache rdd_25451_13 in memory! (computed 17.0 MiB so far)\n",
      "21/12/12 17:12:05 WARN MemoryStore: Not enough space to cache rdd_25451_17 in memory! (computed 17.0 MiB so far)\n",
      "21/12/12 17:12:05 WARN MemoryStore: Not enough space to cache rdd_25451_19 in memory! (computed 17.0 MiB so far)\n",
      "21/12/12 17:12:05 WARN MemoryStore: Not enough space to cache rdd_25451_3 in memory! (computed 17.0 MiB so far)\n",
      "21/12/12 17:12:05 WARN MemoryStore: Not enough space to cache rdd_25451_4 in memory! (computed 17.0 MiB so far)\n",
      "21/12/12 17:12:05 WARN MemoryStore: Not enough space to cache rdd_25451_5 in memory! (computed 17.0 MiB so far)\n",
      "21/12/12 17:12:05 WARN MemoryStore: Not enough space to cache rdd_25451_6 in memory! (computed 17.0 MiB so far)\n",
      "21/12/12 17:12:05 WARN MemoryStore: Not enough space to cache rdd_25451_7 in memory! (computed 17.0 MiB so far)\n",
      "21/12/12 17:12:06 WARN MemoryStore: Not enough space to cache rdd_25451_8 in memory! (computed 17.0 MiB so far)\n",
      "21/12/12 17:12:06 WARN MemoryStore: Not enough space to cache rdd_25451_10 in memory! (computed 17.0 MiB so far)\n",
      "21/12/12 17:12:06 WARN MemoryStore: Not enough space to cache rdd_25451_11 in memory! (computed 17.0 MiB so far)\n",
      "21/12/12 17:12:06 WARN MemoryStore: Not enough space to cache rdd_25451_12 in memory! (computed 17.0 MiB so far)\n",
      "21/12/12 17:12:06 WARN MemoryStore: Not enough space to cache rdd_25451_13 in memory! (computed 17.0 MiB so far)\n",
      "21/12/12 17:12:06 WARN MemoryStore: Not enough space to cache rdd_25451_17 in memory! (computed 17.0 MiB so far)\n",
      "21/12/12 17:12:06 WARN MemoryStore: Not enough space to cache rdd_25451_19 in memory! (computed 17.0 MiB so far)\n",
      "21/12/12 17:12:07 WARN MemoryStore: Not enough space to cache rdd_25451_3 in memory! (computed 17.0 MiB so far)\n",
      "21/12/12 17:12:07 WARN MemoryStore: Not enough space to cache rdd_25451_4 in memory! (computed 17.0 MiB so far)\n",
      "21/12/12 17:12:07 WARN MemoryStore: Not enough space to cache rdd_25451_5 in memory! (computed 17.0 MiB so far)\n",
      "21/12/12 17:12:07 WARN MemoryStore: Not enough space to cache rdd_25451_6 in memory! (computed 17.0 MiB so far)\n",
      "21/12/12 17:12:07 WARN MemoryStore: Not enough space to cache rdd_25451_7 in memory! (computed 17.0 MiB so far)\n",
      "21/12/12 17:12:07 WARN MemoryStore: Not enough space to cache rdd_25451_8 in memory! (computed 17.0 MiB so far)\n",
      "21/12/12 17:12:07 WARN MemoryStore: Not enough space to cache rdd_25451_10 in memory! (computed 17.0 MiB so far)\n",
      "21/12/12 17:12:07 WARN MemoryStore: Not enough space to cache rdd_25451_11 in memory! (computed 17.0 MiB so far)\n",
      "21/12/12 17:12:07 WARN MemoryStore: Not enough space to cache rdd_25451_12 in memory! (computed 17.0 MiB so far)\n",
      "21/12/12 17:12:07 WARN MemoryStore: Not enough space to cache rdd_25451_13 in memory! (computed 17.0 MiB so far)\n",
      "21/12/12 17:12:07 WARN MemoryStore: Not enough space to cache rdd_25451_17 in memory! (computed 17.0 MiB so far)\n",
      "21/12/12 17:12:08 WARN MemoryStore: Not enough space to cache rdd_25451_19 in memory! (computed 17.0 MiB so far)\n",
      "21/12/12 17:12:08 WARN MemoryStore: Not enough space to cache rdd_25451_3 in memory! (computed 17.0 MiB so far)\n",
      "21/12/12 17:12:08 WARN MemoryStore: Not enough space to cache rdd_25451_4 in memory! (computed 17.0 MiB so far)\n",
      "21/12/12 17:12:08 WARN MemoryStore: Not enough space to cache rdd_25451_5 in memory! (computed 17.0 MiB so far)\n",
      "21/12/12 17:12:08 WARN MemoryStore: Not enough space to cache rdd_25451_6 in memory! (computed 17.0 MiB so far)\n",
      "21/12/12 17:12:08 WARN MemoryStore: Not enough space to cache rdd_25451_7 in memory! (computed 17.0 MiB so far)\n",
      "21/12/12 17:12:08 WARN MemoryStore: Not enough space to cache rdd_25451_8 in memory! (computed 17.0 MiB so far)\n",
      "21/12/12 17:12:08 WARN MemoryStore: Not enough space to cache rdd_25451_10 in memory! (computed 17.0 MiB so far)\n",
      "21/12/12 17:12:08 WARN MemoryStore: Not enough space to cache rdd_25451_11 in memory! (computed 17.0 MiB so far)\n",
      "21/12/12 17:12:09 WARN MemoryStore: Not enough space to cache rdd_25451_12 in memory! (computed 17.0 MiB so far)\n",
      "21/12/12 17:12:09 WARN MemoryStore: Not enough space to cache rdd_25451_13 in memory! (computed 17.0 MiB so far)\n",
      "21/12/12 17:12:09 WARN MemoryStore: Not enough space to cache rdd_25451_17 in memory! (computed 17.0 MiB so far)\n",
      "21/12/12 17:12:09 WARN MemoryStore: Not enough space to cache rdd_25451_19 in memory! (computed 17.0 MiB so far)\n",
      "21/12/12 17:12:09 WARN MemoryStore: Not enough space to cache rdd_25451_3 in memory! (computed 17.0 MiB so far)\n",
      "21/12/12 17:12:10 WARN MemoryStore: Not enough space to cache rdd_25451_4 in memory! (computed 17.0 MiB so far)\n",
      "21/12/12 17:12:10 WARN MemoryStore: Not enough space to cache rdd_25451_5 in memory! (computed 17.0 MiB so far)\n",
      "21/12/12 17:12:10 WARN MemoryStore: Not enough space to cache rdd_25451_6 in memory! (computed 17.0 MiB so far)\n",
      "21/12/12 17:12:10 WARN MemoryStore: Not enough space to cache rdd_25451_7 in memory! (computed 17.0 MiB so far)\n",
      "21/12/12 17:12:10 WARN MemoryStore: Not enough space to cache rdd_25451_8 in memory! (computed 17.0 MiB so far)\n",
      "21/12/12 17:12:10 WARN MemoryStore: Not enough space to cache rdd_25451_10 in memory! (computed 17.0 MiB so far)\n",
      "21/12/12 17:12:10 WARN MemoryStore: Not enough space to cache rdd_25451_11 in memory! (computed 17.0 MiB so far)\n",
      "21/12/12 17:12:10 WARN MemoryStore: Not enough space to cache rdd_25451_12 in memory! (computed 17.0 MiB so far)\n",
      "21/12/12 17:12:11 WARN MemoryStore: Not enough space to cache rdd_25451_13 in memory! (computed 17.0 MiB so far)\n",
      "21/12/12 17:12:11 WARN MemoryStore: Not enough space to cache rdd_25451_17 in memory! (computed 17.0 MiB so far)\n",
      "21/12/12 17:12:11 WARN MemoryStore: Not enough space to cache rdd_25451_19 in memory! (computed 17.0 MiB so far)\n",
      "21/12/12 17:12:11 WARN MemoryStore: Not enough space to cache rdd_25451_3 in memory! (computed 17.0 MiB so far)\n",
      "21/12/12 17:12:11 WARN MemoryStore: Not enough space to cache rdd_25451_4 in memory! (computed 17.0 MiB so far)\n",
      "21/12/12 17:12:12 WARN MemoryStore: Not enough space to cache rdd_25451_5 in memory! (computed 17.0 MiB so far)\n",
      "21/12/12 17:12:12 WARN MemoryStore: Not enough space to cache rdd_25451_6 in memory! (computed 17.0 MiB so far)\n",
      "21/12/12 17:12:12 WARN MemoryStore: Not enough space to cache rdd_25451_7 in memory! (computed 17.0 MiB so far)\n",
      "21/12/12 17:12:12 WARN MemoryStore: Not enough space to cache rdd_25451_8 in memory! (computed 17.0 MiB so far)\n",
      "21/12/12 17:12:12 WARN MemoryStore: Not enough space to cache rdd_25451_10 in memory! (computed 17.0 MiB so far)\n",
      "21/12/12 17:12:12 WARN MemoryStore: Not enough space to cache rdd_25451_11 in memory! (computed 17.0 MiB so far)\n",
      "21/12/12 17:12:12 WARN MemoryStore: Not enough space to cache rdd_25451_12 in memory! (computed 17.0 MiB so far)\n",
      "21/12/12 17:12:12 WARN MemoryStore: Not enough space to cache rdd_25451_13 in memory! (computed 17.0 MiB so far)\n",
      "21/12/12 17:12:12 WARN MemoryStore: Not enough space to cache rdd_25451_17 in memory! (computed 17.0 MiB so far)\n",
      "21/12/12 17:12:12 WARN MemoryStore: Not enough space to cache rdd_25451_19 in memory! (computed 17.0 MiB so far)\n",
      "21/12/12 17:12:13 WARN MemoryStore: Not enough space to cache rdd_25451_3 in memory! (computed 17.0 MiB so far)\n",
      "21/12/12 17:12:13 WARN MemoryStore: Not enough space to cache rdd_25451_5 in memory! (computed 17.0 MiB so far)\n",
      "21/12/12 17:12:13 WARN MemoryStore: Not enough space to cache rdd_25451_4 in memory! (computed 17.0 MiB so far)\n",
      "21/12/12 17:12:13 WARN MemoryStore: Not enough space to cache rdd_25451_6 in memory! (computed 17.0 MiB so far)\n",
      "21/12/12 17:12:13 WARN MemoryStore: Not enough space to cache rdd_25451_7 in memory! (computed 17.0 MiB so far)\n",
      "21/12/12 17:12:13 WARN MemoryStore: Not enough space to cache rdd_25451_8 in memory! (computed 17.0 MiB so far)\n",
      "21/12/12 17:12:13 WARN MemoryStore: Not enough space to cache rdd_25451_10 in memory! (computed 17.0 MiB so far)\n",
      "21/12/12 17:12:13 WARN MemoryStore: Not enough space to cache rdd_25451_11 in memory! (computed 17.0 MiB so far)\n",
      "21/12/12 17:12:13 WARN MemoryStore: Not enough space to cache rdd_25451_12 in memory! (computed 17.0 MiB so far)\n",
      "21/12/12 17:12:14 WARN MemoryStore: Not enough space to cache rdd_25451_13 in memory! (computed 17.0 MiB so far)\n",
      "21/12/12 17:12:14 WARN MemoryStore: Not enough space to cache rdd_25451_17 in memory! (computed 17.0 MiB so far)\n",
      "21/12/12 17:12:14 WARN MemoryStore: Not enough space to cache rdd_25451_19 in memory! (computed 17.0 MiB so far)\n",
      "21/12/12 17:12:14 WARN MemoryStore: Not enough space to cache rdd_25451_3 in memory! (computed 17.0 MiB so far)\n",
      "21/12/12 17:12:15 WARN MemoryStore: Not enough space to cache rdd_25451_4 in memory! (computed 17.0 MiB so far)\n",
      "21/12/12 17:12:15 WARN MemoryStore: Not enough space to cache rdd_25451_5 in memory! (computed 17.0 MiB so far)\n",
      "21/12/12 17:12:15 WARN MemoryStore: Not enough space to cache rdd_25451_6 in memory! (computed 17.0 MiB so far)\n",
      "21/12/12 17:12:15 WARN MemoryStore: Not enough space to cache rdd_25451_7 in memory! (computed 17.0 MiB so far)\n",
      "21/12/12 17:12:15 WARN MemoryStore: Not enough space to cache rdd_25451_8 in memory! (computed 17.0 MiB so far)\n",
      "21/12/12 17:12:15 WARN MemoryStore: Not enough space to cache rdd_25451_10 in memory! (computed 17.0 MiB so far)\n",
      "21/12/12 17:12:15 WARN MemoryStore: Not enough space to cache rdd_25451_11 in memory! (computed 17.0 MiB so far)\n",
      "21/12/12 17:12:15 WARN MemoryStore: Not enough space to cache rdd_25451_12 in memory! (computed 17.0 MiB so far)\n",
      "21/12/12 17:12:15 WARN MemoryStore: Not enough space to cache rdd_25451_13 in memory! (computed 17.0 MiB so far)\n",
      "21/12/12 17:12:15 WARN MemoryStore: Not enough space to cache rdd_25451_17 in memory! (computed 17.0 MiB so far)\n",
      "21/12/12 17:12:15 WARN MemoryStore: Not enough space to cache rdd_25451_19 in memory! (computed 17.0 MiB so far)\n",
      "21/12/12 17:12:16 WARN MemoryStore: Not enough space to cache rdd_25451_3 in memory! (computed 17.0 MiB so far)\n",
      "21/12/12 17:12:16 WARN MemoryStore: Not enough space to cache rdd_25451_5 in memory! (computed 17.0 MiB so far)\n",
      "21/12/12 17:12:16 WARN MemoryStore: Not enough space to cache rdd_25451_4 in memory! (computed 17.0 MiB so far)\n",
      "21/12/12 17:12:16 WARN MemoryStore: Not enough space to cache rdd_25451_6 in memory! (computed 17.0 MiB so far)\n",
      "21/12/12 17:12:16 WARN MemoryStore: Not enough space to cache rdd_25451_7 in memory! (computed 17.0 MiB so far)\n",
      "21/12/12 17:12:16 WARN MemoryStore: Not enough space to cache rdd_25451_8 in memory! (computed 17.0 MiB so far)\n",
      "21/12/12 17:12:16 WARN MemoryStore: Not enough space to cache rdd_25451_10 in memory! (computed 17.0 MiB so far)\n",
      "21/12/12 17:12:16 WARN MemoryStore: Not enough space to cache rdd_25451_11 in memory! (computed 17.0 MiB so far)\n",
      "21/12/12 17:12:16 WARN MemoryStore: Not enough space to cache rdd_25451_12 in memory! (computed 17.0 MiB so far)\n",
      "21/12/12 17:12:16 WARN MemoryStore: Not enough space to cache rdd_25451_13 in memory! (computed 17.0 MiB so far)\n",
      "21/12/12 17:12:17 WARN MemoryStore: Not enough space to cache rdd_25451_17 in memory! (computed 17.0 MiB so far)\n",
      "21/12/12 17:12:17 WARN MemoryStore: Not enough space to cache rdd_25451_19 in memory! (computed 17.0 MiB so far)\n",
      "21/12/12 17:12:17 WARN MemoryStore: Not enough space to cache rdd_25451_3 in memory! (computed 17.0 MiB so far)\n",
      "21/12/12 17:12:17 WARN MemoryStore: Not enough space to cache rdd_25451_4 in memory! (computed 17.0 MiB so far)\n",
      "21/12/12 17:12:17 WARN MemoryStore: Not enough space to cache rdd_25451_5 in memory! (computed 17.0 MiB so far)\n",
      "21/12/12 17:12:17 WARN MemoryStore: Not enough space to cache rdd_25451_6 in memory! (computed 17.0 MiB so far)\n",
      "21/12/12 17:12:17 WARN MemoryStore: Not enough space to cache rdd_25451_7 in memory! (computed 17.0 MiB so far)\n",
      "21/12/12 17:12:18 WARN MemoryStore: Not enough space to cache rdd_25451_8 in memory! (computed 17.0 MiB so far)\n",
      "21/12/12 17:12:18 WARN MemoryStore: Not enough space to cache rdd_25451_10 in memory! (computed 17.0 MiB so far)\n",
      "21/12/12 17:12:18 WARN MemoryStore: Not enough space to cache rdd_25451_11 in memory! (computed 17.0 MiB so far)\n",
      "21/12/12 17:12:18 WARN MemoryStore: Not enough space to cache rdd_25451_12 in memory! (computed 17.0 MiB so far)\n",
      "21/12/12 17:12:18 WARN MemoryStore: Not enough space to cache rdd_25451_13 in memory! (computed 17.0 MiB so far)\n",
      "21/12/12 17:12:18 WARN MemoryStore: Not enough space to cache rdd_25451_17 in memory! (computed 17.0 MiB so far)\n",
      "21/12/12 17:12:18 WARN MemoryStore: Not enough space to cache rdd_25451_19 in memory! (computed 17.0 MiB so far)\n",
      "21/12/12 17:12:19 WARN MemoryStore: Not enough space to cache rdd_25451_3 in memory! (computed 17.0 MiB so far)\n",
      "21/12/12 17:12:19 WARN MemoryStore: Not enough space to cache rdd_25451_4 in memory! (computed 17.0 MiB so far)\n",
      "21/12/12 17:12:19 WARN MemoryStore: Not enough space to cache rdd_25451_5 in memory! (computed 17.0 MiB so far)\n",
      "21/12/12 17:12:19 WARN MemoryStore: Not enough space to cache rdd_25451_6 in memory! (computed 17.0 MiB so far)\n",
      "21/12/12 17:12:19 WARN MemoryStore: Not enough space to cache rdd_25451_7 in memory! (computed 17.0 MiB so far)\n",
      "21/12/12 17:12:19 WARN MemoryStore: Not enough space to cache rdd_25451_8 in memory! (computed 17.0 MiB so far)\n",
      "21/12/12 17:12:19 WARN MemoryStore: Not enough space to cache rdd_25451_10 in memory! (computed 17.0 MiB so far)\n",
      "21/12/12 17:12:19 WARN MemoryStore: Not enough space to cache rdd_25451_11 in memory! (computed 17.0 MiB so far)\n",
      "21/12/12 17:12:19 WARN MemoryStore: Not enough space to cache rdd_25451_12 in memory! (computed 17.0 MiB so far)\n",
      "21/12/12 17:12:19 WARN MemoryStore: Not enough space to cache rdd_25451_13 in memory! (computed 17.0 MiB so far)\n",
      "21/12/12 17:12:20 WARN MemoryStore: Not enough space to cache rdd_25451_17 in memory! (computed 17.0 MiB so far)\n",
      "21/12/12 17:12:20 WARN MemoryStore: Not enough space to cache rdd_25451_19 in memory! (computed 17.0 MiB so far)\n",
      "21/12/12 17:12:20 WARN MemoryStore: Not enough space to cache rdd_25451_3 in memory! (computed 17.0 MiB so far)\n",
      "21/12/12 17:12:20 WARN MemoryStore: Not enough space to cache rdd_25451_4 in memory! (computed 17.0 MiB so far)\n",
      "21/12/12 17:12:20 WARN MemoryStore: Not enough space to cache rdd_25451_5 in memory! (computed 17.0 MiB so far)\n",
      "21/12/12 17:12:20 WARN MemoryStore: Not enough space to cache rdd_25451_6 in memory! (computed 17.0 MiB so far)\n",
      "21/12/12 17:12:20 WARN MemoryStore: Not enough space to cache rdd_25451_7 in memory! (computed 17.0 MiB so far)\n",
      "21/12/12 17:12:21 WARN MemoryStore: Not enough space to cache rdd_25451_8 in memory! (computed 17.0 MiB so far)\n",
      "21/12/12 17:12:21 WARN MemoryStore: Not enough space to cache rdd_25451_10 in memory! (computed 17.0 MiB so far)\n",
      "21/12/12 17:12:21 WARN MemoryStore: Not enough space to cache rdd_25451_11 in memory! (computed 17.0 MiB so far)\n",
      "21/12/12 17:12:21 WARN MemoryStore: Not enough space to cache rdd_25451_12 in memory! (computed 17.0 MiB so far)\n",
      "21/12/12 17:12:21 WARN MemoryStore: Not enough space to cache rdd_25451_13 in memory! (computed 17.0 MiB so far)\n",
      "21/12/12 17:12:21 WARN MemoryStore: Not enough space to cache rdd_25451_17 in memory! (computed 17.0 MiB so far)\n",
      "21/12/12 17:12:21 WARN MemoryStore: Not enough space to cache rdd_25451_19 in memory! (computed 17.0 MiB so far)\n",
      "21/12/12 17:12:22 WARN MemoryStore: Not enough space to cache rdd_25451_3 in memory! (computed 17.0 MiB so far)\n",
      "21/12/12 17:12:22 WARN MemoryStore: Not enough space to cache rdd_25451_4 in memory! (computed 17.0 MiB so far)\n",
      "21/12/12 17:12:22 WARN MemoryStore: Not enough space to cache rdd_25451_6 in memory! (computed 17.0 MiB so far)\n",
      "21/12/12 17:12:22 WARN MemoryStore: Not enough space to cache rdd_25451_5 in memory! (computed 17.0 MiB so far)\n",
      "21/12/12 17:12:22 WARN MemoryStore: Not enough space to cache rdd_25451_7 in memory! (computed 17.0 MiB so far)\n",
      "21/12/12 17:12:22 WARN MemoryStore: Not enough space to cache rdd_25451_8 in memory! (computed 17.0 MiB so far)\n",
      "21/12/12 17:12:22 WARN MemoryStore: Not enough space to cache rdd_25451_10 in memory! (computed 17.0 MiB so far)\n",
      "21/12/12 17:12:22 WARN MemoryStore: Not enough space to cache rdd_25451_11 in memory! (computed 17.0 MiB so far)\n",
      "21/12/12 17:12:22 WARN MemoryStore: Not enough space to cache rdd_25451_12 in memory! (computed 17.0 MiB so far)\n",
      "21/12/12 17:12:22 WARN MemoryStore: Not enough space to cache rdd_25451_13 in memory! (computed 17.0 MiB so far)\n",
      "21/12/12 17:12:23 WARN MemoryStore: Not enough space to cache rdd_25451_17 in memory! (computed 17.0 MiB so far)\n",
      "21/12/12 17:12:23 WARN MemoryStore: Not enough space to cache rdd_25451_19 in memory! (computed 17.0 MiB so far)\n",
      "21/12/12 17:12:23 WARN MemoryStore: Not enough space to cache rdd_25451_3 in memory! (computed 17.0 MiB so far)\n",
      "21/12/12 17:12:23 WARN MemoryStore: Not enough space to cache rdd_25451_4 in memory! (computed 17.0 MiB so far)\n",
      "21/12/12 17:12:23 WARN MemoryStore: Not enough space to cache rdd_25451_5 in memory! (computed 17.0 MiB so far)\n",
      "21/12/12 17:12:23 WARN MemoryStore: Not enough space to cache rdd_25451_6 in memory! (computed 17.0 MiB so far)\n",
      "21/12/12 17:12:23 WARN MemoryStore: Not enough space to cache rdd_25451_7 in memory! (computed 17.0 MiB so far)\n",
      "21/12/12 17:12:24 WARN MemoryStore: Not enough space to cache rdd_25451_8 in memory! (computed 17.0 MiB so far)\n",
      "21/12/12 17:12:24 WARN MemoryStore: Not enough space to cache rdd_25451_10 in memory! (computed 17.0 MiB so far)\n",
      "21/12/12 17:12:24 WARN MemoryStore: Not enough space to cache rdd_25451_11 in memory! (computed 17.0 MiB so far)\n",
      "21/12/12 17:12:24 WARN MemoryStore: Not enough space to cache rdd_25451_12 in memory! (computed 17.0 MiB so far)\n",
      "21/12/12 17:12:24 WARN MemoryStore: Not enough space to cache rdd_25451_13 in memory! (computed 17.0 MiB so far)\n",
      "21/12/12 17:12:24 WARN MemoryStore: Not enough space to cache rdd_25451_17 in memory! (computed 17.0 MiB so far)\n",
      "21/12/12 17:12:24 WARN MemoryStore: Not enough space to cache rdd_25451_19 in memory! (computed 17.0 MiB so far)\n",
      "21/12/12 17:12:25 WARN MemoryStore: Not enough space to cache rdd_25451_3 in memory! (computed 17.0 MiB so far)\n",
      "21/12/12 17:12:25 WARN MemoryStore: Not enough space to cache rdd_25451_4 in memory! (computed 17.0 MiB so far)\n",
      "21/12/12 17:12:25 WARN MemoryStore: Not enough space to cache rdd_25451_5 in memory! (computed 17.0 MiB so far)\n",
      "21/12/12 17:12:25 WARN MemoryStore: Not enough space to cache rdd_25451_6 in memory! (computed 17.0 MiB so far)\n",
      "21/12/12 17:12:25 WARN MemoryStore: Not enough space to cache rdd_25451_7 in memory! (computed 17.0 MiB so far)\n",
      "21/12/12 17:12:25 WARN MemoryStore: Not enough space to cache rdd_25451_8 in memory! (computed 17.0 MiB so far)\n",
      "21/12/12 17:12:25 WARN MemoryStore: Not enough space to cache rdd_25451_10 in memory! (computed 17.0 MiB so far)\n",
      "21/12/12 17:12:25 WARN MemoryStore: Not enough space to cache rdd_25451_11 in memory! (computed 17.0 MiB so far)\n",
      "21/12/12 17:12:25 WARN MemoryStore: Not enough space to cache rdd_25451_12 in memory! (computed 17.0 MiB so far)\n",
      "21/12/12 17:12:25 WARN MemoryStore: Not enough space to cache rdd_25451_13 in memory! (computed 17.0 MiB so far)\n",
      "21/12/12 17:12:26 WARN MemoryStore: Not enough space to cache rdd_25451_17 in memory! (computed 17.0 MiB so far)\n",
      "21/12/12 17:12:26 WARN MemoryStore: Not enough space to cache rdd_25451_19 in memory! (computed 17.0 MiB so far)\n",
      "21/12/12 17:12:26 WARN MemoryStore: Not enough space to cache rdd_25451_3 in memory! (computed 17.0 MiB so far)\n",
      "21/12/12 17:12:26 WARN MemoryStore: Not enough space to cache rdd_25451_4 in memory! (computed 17.0 MiB so far)\n",
      "21/12/12 17:12:26 WARN MemoryStore: Not enough space to cache rdd_25451_5 in memory! (computed 17.0 MiB so far)\n",
      "21/12/12 17:12:26 WARN MemoryStore: Not enough space to cache rdd_25451_6 in memory! (computed 17.0 MiB so far)\n",
      "21/12/12 17:12:26 WARN MemoryStore: Not enough space to cache rdd_25451_7 in memory! (computed 17.0 MiB so far)\n",
      "21/12/12 17:12:26 WARN MemoryStore: Not enough space to cache rdd_25451_8 in memory! (computed 17.0 MiB so far)\n",
      "21/12/12 17:12:27 WARN MemoryStore: Not enough space to cache rdd_25451_10 in memory! (computed 17.0 MiB so far)\n",
      "21/12/12 17:12:27 WARN MemoryStore: Not enough space to cache rdd_25451_11 in memory! (computed 17.0 MiB so far)\n",
      "21/12/12 17:12:27 WARN MemoryStore: Not enough space to cache rdd_25451_12 in memory! (computed 17.0 MiB so far)\n",
      "21/12/12 17:12:27 WARN MemoryStore: Not enough space to cache rdd_25451_13 in memory! (computed 17.0 MiB so far)\n",
      "21/12/12 17:12:27 WARN MemoryStore: Not enough space to cache rdd_25451_17 in memory! (computed 17.0 MiB so far)\n",
      "21/12/12 17:12:27 WARN MemoryStore: Not enough space to cache rdd_25451_19 in memory! (computed 17.0 MiB so far)\n",
      "21/12/12 17:12:28 WARN MemoryStore: Not enough space to cache rdd_25451_3 in memory! (computed 17.0 MiB so far)\n",
      "21/12/12 17:12:28 WARN MemoryStore: Not enough space to cache rdd_25451_4 in memory! (computed 17.0 MiB so far)\n",
      "21/12/12 17:12:28 WARN MemoryStore: Not enough space to cache rdd_25451_5 in memory! (computed 17.0 MiB so far)\n",
      "21/12/12 17:12:28 WARN MemoryStore: Not enough space to cache rdd_25451_6 in memory! (computed 17.0 MiB so far)\n",
      "21/12/12 17:12:28 WARN MemoryStore: Not enough space to cache rdd_25451_7 in memory! (computed 17.0 MiB so far)\n",
      "21/12/12 17:12:28 WARN MemoryStore: Not enough space to cache rdd_25451_8 in memory! (computed 17.0 MiB so far)\n",
      "21/12/12 17:12:28 WARN MemoryStore: Not enough space to cache rdd_25451_10 in memory! (computed 17.0 MiB so far)\n",
      "21/12/12 17:12:28 WARN MemoryStore: Not enough space to cache rdd_25451_11 in memory! (computed 17.0 MiB so far)\n",
      "21/12/12 17:12:28 WARN MemoryStore: Not enough space to cache rdd_25451_12 in memory! (computed 17.0 MiB so far)\n",
      "21/12/12 17:12:28 WARN MemoryStore: Not enough space to cache rdd_25451_13 in memory! (computed 17.0 MiB so far)\n",
      "21/12/12 17:12:28 WARN MemoryStore: Not enough space to cache rdd_25451_17 in memory! (computed 17.0 MiB so far)\n",
      "21/12/12 17:12:29 WARN MemoryStore: Not enough space to cache rdd_25451_19 in memory! (computed 17.0 MiB so far)\n",
      "21/12/12 17:12:29 WARN MemoryStore: Not enough space to cache rdd_25451_3 in memory! (computed 17.0 MiB so far)\n",
      "21/12/12 17:12:29 WARN MemoryStore: Not enough space to cache rdd_25451_4 in memory! (computed 17.0 MiB so far)\n",
      "21/12/12 17:12:29 WARN MemoryStore: Not enough space to cache rdd_25451_5 in memory! (computed 17.0 MiB so far)\n",
      "21/12/12 17:12:29 WARN MemoryStore: Not enough space to cache rdd_25451_6 in memory! (computed 17.0 MiB so far)\n",
      "21/12/12 17:12:29 WARN MemoryStore: Not enough space to cache rdd_25451_7 in memory! (computed 17.0 MiB so far)\n",
      "21/12/12 17:12:29 WARN MemoryStore: Not enough space to cache rdd_25451_8 in memory! (computed 17.0 MiB so far)\n",
      "21/12/12 17:12:29 WARN MemoryStore: Not enough space to cache rdd_25451_10 in memory! (computed 17.0 MiB so far)\n",
      "21/12/12 17:12:29 WARN MemoryStore: Not enough space to cache rdd_25451_11 in memory! (computed 17.0 MiB so far)\n",
      "21/12/12 17:12:30 WARN MemoryStore: Not enough space to cache rdd_25451_12 in memory! (computed 17.0 MiB so far)\n",
      "21/12/12 17:12:30 WARN MemoryStore: Not enough space to cache rdd_25451_13 in memory! (computed 17.0 MiB so far)\n",
      "21/12/12 17:12:30 WARN MemoryStore: Not enough space to cache rdd_25451_17 in memory! (computed 17.0 MiB so far)\n",
      "21/12/12 17:12:30 WARN MemoryStore: Not enough space to cache rdd_25451_19 in memory! (computed 17.0 MiB so far)\n",
      "21/12/12 17:12:30 WARN MemoryStore: Not enough space to cache rdd_25451_3 in memory! (computed 17.0 MiB so far)\n",
      "21/12/12 17:12:31 WARN MemoryStore: Not enough space to cache rdd_25451_4 in memory! (computed 17.0 MiB so far)\n",
      "21/12/12 17:12:31 WARN MemoryStore: Not enough space to cache rdd_25451_5 in memory! (computed 17.0 MiB so far)\n",
      "21/12/12 17:12:31 WARN MemoryStore: Not enough space to cache rdd_25451_6 in memory! (computed 17.0 MiB so far)\n",
      "21/12/12 17:12:31 WARN MemoryStore: Not enough space to cache rdd_25451_7 in memory! (computed 17.0 MiB so far)\n",
      "21/12/12 17:12:31 WARN MemoryStore: Not enough space to cache rdd_25451_8 in memory! (computed 17.0 MiB so far)\n",
      "21/12/12 17:12:31 WARN MemoryStore: Not enough space to cache rdd_25451_10 in memory! (computed 17.0 MiB so far)\n",
      "21/12/12 17:12:31 WARN MemoryStore: Not enough space to cache rdd_25451_11 in memory! (computed 17.0 MiB so far)\n",
      "21/12/12 17:12:31 WARN MemoryStore: Not enough space to cache rdd_25451_12 in memory! (computed 17.0 MiB so far)\n",
      "21/12/12 17:12:31 WARN MemoryStore: Not enough space to cache rdd_25451_13 in memory! (computed 17.0 MiB so far)\n",
      "21/12/12 17:12:31 WARN MemoryStore: Not enough space to cache rdd_25451_17 in memory! (computed 17.0 MiB so far)\n",
      "21/12/12 17:12:31 WARN MemoryStore: Not enough space to cache rdd_25451_19 in memory! (computed 17.0 MiB so far)\n",
      "21/12/12 17:12:32 WARN MemoryStore: Not enough space to cache rdd_25451_3 in memory! (computed 17.0 MiB so far)\n",
      "21/12/12 17:12:32 WARN MemoryStore: Not enough space to cache rdd_25451_4 in memory! (computed 17.0 MiB so far)\n",
      "21/12/12 17:12:32 WARN MemoryStore: Not enough space to cache rdd_25451_5 in memory! (computed 17.0 MiB so far)\n",
      "21/12/12 17:12:32 WARN MemoryStore: Not enough space to cache rdd_25451_6 in memory! (computed 17.0 MiB so far)\n",
      "21/12/12 17:12:32 WARN MemoryStore: Not enough space to cache rdd_25451_7 in memory! (computed 17.0 MiB so far)\n",
      "21/12/12 17:12:32 WARN MemoryStore: Not enough space to cache rdd_25451_8 in memory! (computed 17.0 MiB so far)\n",
      "21/12/12 17:12:33 WARN MemoryStore: Not enough space to cache rdd_25451_10 in memory! (computed 17.0 MiB so far)\n",
      "21/12/12 17:12:33 WARN MemoryStore: Not enough space to cache rdd_25451_11 in memory! (computed 17.0 MiB so far)\n",
      "21/12/12 17:12:33 WARN MemoryStore: Not enough space to cache rdd_25451_12 in memory! (computed 17.0 MiB so far)\n",
      "21/12/12 17:12:33 WARN MemoryStore: Not enough space to cache rdd_25451_13 in memory! (computed 17.0 MiB so far)\n",
      "21/12/12 17:12:33 WARN MemoryStore: Not enough space to cache rdd_25451_17 in memory! (computed 17.0 MiB so far)\n",
      "21/12/12 17:12:33 WARN MemoryStore: Not enough space to cache rdd_25451_19 in memory! (computed 17.0 MiB so far)\n",
      "21/12/12 17:12:34 WARN MemoryStore: Not enough space to cache rdd_25451_3 in memory! (computed 17.0 MiB so far)\n",
      "21/12/12 17:12:34 WARN MemoryStore: Not enough space to cache rdd_25451_4 in memory! (computed 17.0 MiB so far)\n",
      "21/12/12 17:12:34 WARN MemoryStore: Not enough space to cache rdd_25451_5 in memory! (computed 17.0 MiB so far)\n",
      "21/12/12 17:12:34 WARN MemoryStore: Not enough space to cache rdd_25451_6 in memory! (computed 17.0 MiB so far)\n",
      "21/12/12 17:12:34 WARN MemoryStore: Not enough space to cache rdd_25451_7 in memory! (computed 17.0 MiB so far)\n",
      "21/12/12 17:12:34 WARN MemoryStore: Not enough space to cache rdd_25451_8 in memory! (computed 17.0 MiB so far)\n",
      "21/12/12 17:12:34 WARN MemoryStore: Not enough space to cache rdd_25451_10 in memory! (computed 17.0 MiB so far)\n",
      "21/12/12 17:12:34 WARN MemoryStore: Not enough space to cache rdd_25451_11 in memory! (computed 17.0 MiB so far)\n",
      "21/12/12 17:12:34 WARN MemoryStore: Not enough space to cache rdd_25451_12 in memory! (computed 17.0 MiB so far)\n",
      "21/12/12 17:12:34 WARN MemoryStore: Not enough space to cache rdd_25451_13 in memory! (computed 17.0 MiB so far)\n",
      "21/12/12 17:12:35 WARN MemoryStore: Not enough space to cache rdd_25451_17 in memory! (computed 17.0 MiB so far)\n",
      "21/12/12 17:12:35 WARN MemoryStore: Not enough space to cache rdd_25451_19 in memory! (computed 17.0 MiB so far)\n",
      "21/12/12 17:12:35 WARN MemoryStore: Not enough space to cache rdd_25451_3 in memory! (computed 17.0 MiB so far)\n",
      "21/12/12 17:12:35 WARN MemoryStore: Not enough space to cache rdd_25451_4 in memory! (computed 17.0 MiB so far)\n",
      "21/12/12 17:12:35 WARN MemoryStore: Not enough space to cache rdd_25451_5 in memory! (computed 17.0 MiB so far)\n",
      "21/12/12 17:12:35 WARN MemoryStore: Not enough space to cache rdd_25451_6 in memory! (computed 17.0 MiB so far)\n",
      "21/12/12 17:12:35 WARN MemoryStore: Not enough space to cache rdd_25451_7 in memory! (computed 17.0 MiB so far)\n",
      "21/12/12 17:12:36 WARN MemoryStore: Not enough space to cache rdd_25451_8 in memory! (computed 17.0 MiB so far)\n",
      "21/12/12 17:12:36 WARN MemoryStore: Not enough space to cache rdd_25451_10 in memory! (computed 17.0 MiB so far)\n",
      "21/12/12 17:12:36 WARN MemoryStore: Not enough space to cache rdd_25451_11 in memory! (computed 17.0 MiB so far)\n",
      "21/12/12 17:12:36 WARN MemoryStore: Not enough space to cache rdd_25451_12 in memory! (computed 17.0 MiB so far)\n",
      "21/12/12 17:12:36 WARN MemoryStore: Not enough space to cache rdd_25451_13 in memory! (computed 17.0 MiB so far)\n",
      "21/12/12 17:12:36 WARN MemoryStore: Not enough space to cache rdd_25451_17 in memory! (computed 17.0 MiB so far)\n",
      "21/12/12 17:12:36 WARN MemoryStore: Not enough space to cache rdd_25451_19 in memory! (computed 17.0 MiB so far)\n",
      "21/12/12 17:12:37 WARN MemoryStore: Not enough space to cache rdd_25451_3 in memory! (computed 17.0 MiB so far)\n",
      "21/12/12 17:12:37 WARN MemoryStore: Not enough space to cache rdd_25451_4 in memory! (computed 17.0 MiB so far)\n",
      "21/12/12 17:12:37 WARN MemoryStore: Not enough space to cache rdd_25451_5 in memory! (computed 17.0 MiB so far)\n",
      "21/12/12 17:12:37 WARN MemoryStore: Not enough space to cache rdd_25451_6 in memory! (computed 17.0 MiB so far)\n",
      "21/12/12 17:12:37 WARN MemoryStore: Not enough space to cache rdd_25451_7 in memory! (computed 17.0 MiB so far)\n",
      "21/12/12 17:12:37 WARN MemoryStore: Not enough space to cache rdd_25451_8 in memory! (computed 17.0 MiB so far)\n",
      "21/12/12 17:12:37 WARN MemoryStore: Not enough space to cache rdd_25451_10 in memory! (computed 17.0 MiB so far)\n",
      "21/12/12 17:12:37 WARN MemoryStore: Not enough space to cache rdd_25451_11 in memory! (computed 17.0 MiB so far)\n",
      "21/12/12 17:12:37 WARN MemoryStore: Not enough space to cache rdd_25451_12 in memory! (computed 17.0 MiB so far)\n",
      "21/12/12 17:12:37 WARN MemoryStore: Not enough space to cache rdd_25451_13 in memory! (computed 17.0 MiB so far)\n",
      "21/12/12 17:12:38 WARN MemoryStore: Not enough space to cache rdd_25451_17 in memory! (computed 17.0 MiB so far)\n",
      "21/12/12 17:12:38 WARN MemoryStore: Not enough space to cache rdd_25451_19 in memory! (computed 17.0 MiB so far)\n",
      "21/12/12 17:12:38 WARN MemoryStore: Not enough space to cache rdd_25451_3 in memory! (computed 17.0 MiB so far)\n",
      "21/12/12 17:12:38 WARN MemoryStore: Not enough space to cache rdd_25451_4 in memory! (computed 17.0 MiB so far)\n",
      "21/12/12 17:12:38 WARN MemoryStore: Not enough space to cache rdd_25451_5 in memory! (computed 17.0 MiB so far)\n",
      "21/12/12 17:12:38 WARN MemoryStore: Not enough space to cache rdd_25451_6 in memory! (computed 17.0 MiB so far)\n",
      "21/12/12 17:12:38 WARN MemoryStore: Not enough space to cache rdd_25451_7 in memory! (computed 17.0 MiB so far)\n",
      "21/12/12 17:12:39 WARN MemoryStore: Not enough space to cache rdd_25451_8 in memory! (computed 17.0 MiB so far)\n",
      "21/12/12 17:12:39 WARN MemoryStore: Not enough space to cache rdd_25451_10 in memory! (computed 17.0 MiB so far)\n",
      "21/12/12 17:12:39 WARN MemoryStore: Not enough space to cache rdd_25451_11 in memory! (computed 17.0 MiB so far)\n",
      "21/12/12 17:12:39 WARN MemoryStore: Not enough space to cache rdd_25451_12 in memory! (computed 17.0 MiB so far)\n",
      "21/12/12 17:12:39 WARN MemoryStore: Not enough space to cache rdd_25451_13 in memory! (computed 17.0 MiB so far)\n",
      "21/12/12 17:12:39 WARN MemoryStore: Not enough space to cache rdd_25451_17 in memory! (computed 17.0 MiB so far)\n",
      "21/12/12 17:12:39 WARN MemoryStore: Not enough space to cache rdd_25451_19 in memory! (computed 17.0 MiB so far)\n",
      "                                                                                \r"
     ]
    },
    {
     "data": {
      "text/plain": [
       "0.8842780944691959"
      ]
     },
     "execution_count": 425,
     "metadata": {},
     "output_type": "execute_result"
    }
   ],
   "source": [
    "lr = LogisticRegression(maxIter=50, regParam=0.1, elasticNetParam=0)\n",
    "lr = lr.fit(train_data)\n",
    "\n",
    "predictions = lr.transform(valid_data)\n",
    "\n",
    "evaluator = MulticlassClassificationEvaluator(predictionCol=\"prediction\")\n",
    "evaluator.setMetricName(\"f1\")\n",
    "evaluator.evaluate(predictions)"
   ]
  },
  {
   "cell_type": "code",
   "execution_count": 426,
   "id": "8a56e912-0e21-4249-a6ed-08ec219fd494",
   "metadata": {},
   "outputs": [
    {
     "name": "stderr",
     "output_type": "stream",
     "text": [
      "                                                                                \r"
     ]
    }
   ],
   "source": [
    "valid_predictions = predictions.select(['label','prediction']).toPandas()\n",
    "# valid_predictions[['label','prediction']].to_csv('./predictions/valid_predictions.txt')\n",
    "report = sm.classification_report(valid_predictions['label'], valid_predictions['prediction'],target_names=pipeline.stages[-1].labels)"
   ]
  },
  {
   "cell_type": "code",
   "execution_count": 427,
   "id": "c84a8045-b4e4-4946-b7d2-97aa76e39cdc",
   "metadata": {},
   "outputs": [
    {
     "name": "stdout",
     "output_type": "stream",
     "text": [
      "              precision    recall  f1-score   support\n",
      "\n",
      "        PHYS       0.91      0.95      0.93    181614\n",
      "        MATH       0.88      0.91      0.89     91576\n",
      "          CS       0.83      0.88      0.85     67249\n",
      "       ASTRO       0.96      0.89      0.93     54919\n",
      "        STAT       0.69      0.39      0.49      7479\n",
      "        EESS       0.52      0.11      0.18      5340\n",
      "         BIO       0.72      0.38      0.50      4748\n",
      "         FIN       0.72      0.40      0.51      1833\n",
      "        ECON       0.55      0.03      0.06       713\n",
      "\n",
      "    accuracy                           0.89    415471\n",
      "   macro avg       0.75      0.55      0.59    415471\n",
      "weighted avg       0.89      0.89      0.88    415471\n",
      "\n"
     ]
    }
   ],
   "source": [
    "print(report)"
   ]
  },
  {
   "cell_type": "markdown",
   "id": "093b937b-6168-40ff-9fe9-03a49a152289",
   "metadata": {},
   "source": [
    "# Testing"
   ]
  },
  {
   "cell_type": "code",
   "execution_count": 178,
   "id": "174a0f0b-7809-4023-953c-38ce47eeceb4",
   "metadata": {},
   "outputs": [
    {
     "name": "stderr",
     "output_type": "stream",
     "text": [
      "[Stage 9394:=================================================>    (23 + 2) / 25]\r"
     ]
    },
    {
     "name": "stdout",
     "output_type": "stream",
     "text": [
      "Testing count: 593442\n"
     ]
    },
    {
     "name": "stderr",
     "output_type": "stream",
     "text": [
      "                                                                                \r"
     ]
    }
   ],
   "source": [
    "print(f\"Testing count: {test_data.count()}\")"
   ]
  },
  {
   "cell_type": "code",
   "execution_count": 428,
   "id": "e3f08e77-6540-48c7-a0e8-cdc965ea6870",
   "metadata": {},
   "outputs": [
    {
     "name": "stderr",
     "output_type": "stream",
     "text": [
      "                                                                                \r"
     ]
    },
    {
     "data": {
      "text/plain": [
       "0.8839602900374538"
      ]
     },
     "execution_count": 428,
     "metadata": {},
     "output_type": "execute_result"
    }
   ],
   "source": [
    "test_predictions = lr.transform(test_data)\n",
    "\n",
    "evaluator = MulticlassClassificationEvaluator(predictionCol=\"prediction\")\n",
    "evaluator.setMetricName(\"f1\")\n",
    "evaluator.evaluate(test_predictions)"
   ]
  },
  {
   "cell_type": "code",
   "execution_count": 429,
   "id": "f4829507-94f6-46c1-bd3b-81141f3c8911",
   "metadata": {},
   "outputs": [
    {
     "name": "stderr",
     "output_type": "stream",
     "text": [
      "                                                                                \r"
     ]
    }
   ],
   "source": [
    "test_preds = test_predictions.select(['label','prediction']).toPandas()"
   ]
  },
  {
   "cell_type": "code",
   "execution_count": 430,
   "id": "36eb42f8-2a7c-47ce-a0d5-b274010106ca",
   "metadata": {},
   "outputs": [],
   "source": [
    "# test_preds[['label','prediction']].to_csv('./predictions/test_predictions.txt')"
   ]
  },
  {
   "cell_type": "code",
   "execution_count": 431,
   "id": "27ca3fec-99c5-49c6-9b78-b60c2b52cd94",
   "metadata": {},
   "outputs": [],
   "source": [
    "report = sm.classification_report(test_preds['label'], test_preds['prediction'],target_names=pipeline.stages[-1].labels)"
   ]
  },
  {
   "cell_type": "code",
   "execution_count": 432,
   "id": "a9da814d-fca2-49a1-bd12-8e1fd8bb97b1",
   "metadata": {},
   "outputs": [
    {
     "name": "stdout",
     "output_type": "stream",
     "text": [
      "              precision    recall  f1-score   support\n",
      "\n",
      "        PHYS       0.91      0.95      0.93    258901\n",
      "        MATH       0.88      0.91      0.89    131055\n",
      "          CS       0.83      0.88      0.85     96214\n",
      "       ASTRO       0.96      0.89      0.93     78245\n",
      "        STAT       0.69      0.39      0.50     10877\n",
      "        EESS       0.55      0.12      0.20      7521\n",
      "         BIO       0.71      0.37      0.48      6934\n",
      "         FIN       0.72      0.39      0.50      2647\n",
      "        ECON       0.45      0.02      0.05      1048\n",
      "\n",
      "    accuracy                           0.89    593442\n",
      "   macro avg       0.75      0.55      0.59    593442\n",
      "weighted avg       0.89      0.89      0.88    593442\n",
      "\n"
     ]
    }
   ],
   "source": [
    "print(report)"
   ]
  },
  {
   "cell_type": "code",
   "execution_count": null,
   "id": "f4646d4f-7ca0-4e4d-b257-0ede9f456608",
   "metadata": {},
   "outputs": [],
   "source": []
  }
 ],
 "metadata": {
  "kernelspec": {
   "display_name": "Python 3 (ipykernel)",
   "language": "python",
   "name": "python3"
  },
  "language_info": {
   "codemirror_mode": {
    "name": "ipython",
    "version": 3
   },
   "file_extension": ".py",
   "mimetype": "text/x-python",
   "name": "python",
   "nbconvert_exporter": "python",
   "pygments_lexer": "ipython3",
   "version": "3.9.6"
  }
 },
 "nbformat": 4,
 "nbformat_minor": 5
}
